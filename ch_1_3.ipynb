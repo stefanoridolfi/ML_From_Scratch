{
  "nbformat": 4,
  "nbformat_minor": 0,
  "metadata": {
    "colab": {
      "name": "Untitled",
      "provenance": [],
      "include_colab_link": true
    },
    "kernelspec": {
      "name": "python3",
      "display_name": "Python 3"
    }
  },
  "cells": [
    {
      "cell_type": "markdown",
      "metadata": {
        "id": "view-in-github",
        "colab_type": "text"
      },
      "source": [
        "<a href=\"https://colab.research.google.com/github/stefanoridolfi/ML_From_scratch/blob/master/ch_1_3.ipynb\" target=\"_parent\"><img src=\"https://colab.research.google.com/assets/colab-badge.svg\" alt=\"Open In Colab\"/></a>"
      ]
    },
    {
      "cell_type": "code",
      "metadata": {
        "id": "oa3v0S-Sh9zh",
        "colab_type": "code",
        "outputId": "95308804-faa1-4849-b920-78afd5fa4498",
        "colab": {
          "base_uri": "https://localhost:8080/",
          "height": 52
        }
      },
      "source": [
        "from random import seed\n",
        "from random import randrange\n",
        "# function that splits dataset in two parts, train and test\n",
        "def train_test_split(dataset,split=0.6):\n",
        "  train_list=[]\n",
        "  train_size=int(split*len(dataset))\n",
        "  test_list=list(dataset)\n",
        "  while len(train_list)  <train_size:\n",
        "    index=randrange(len(test_list))\n",
        "    #print(\"index=\",index)\n",
        "    elem=test_list.pop(index)\n",
        "    train_list.append(elem)\n",
        "  return train_list, test_list\n",
        "\n",
        "lista=[[0],[1],[2],[3],[4],[10],[11],[12],[13],[14],[20],[21],[22],[23],[24]]\n",
        "\n",
        "train, test =train_test_split(lista)\n",
        "print(\"train=\",train, \"       test=\",test)\n",
        "\n",
        "\n",
        "# Function that splits  dataset in k folder : result is a list of list of folders, inside is fold there are lists that are the columns of dataset\n",
        "def cross_validation_split(dataset, folds=3):\n",
        "  dataset_split=list()\n",
        "  dataset_copy=list(dataset)\n",
        "  fold_size=int(len(dataset)/folds)\n",
        "  for i in range(folds):\n",
        "    fold=[]\n",
        "    while len(fold)<fold_size:\n",
        "      index=randrange(len(dataset_copy))\n",
        "      elem=dataset_copy.pop(index)\n",
        "      fold.append(elem)\n",
        "    dataset_split.append(fold)\n",
        "  return dataset_split\n",
        "folds=cross_validation_split(lista, folds=3)\n",
        "print(\"folds\",folds)\n"
      ],
      "execution_count": 15,
      "outputs": [
        {
          "output_type": "stream",
          "text": [
            "train= [[2], [20], [0], [11], [24], [14], [10], [1], [13]]        test= [[3], [4], [12], [21], [22], [23]]\n",
            "folds [[[2], [1], [23], [14], [24]], [[3], [11], [13], [20], [21]], [[4], [12], [22], [0], [10]]]\n"
          ],
          "name": "stdout"
        }
      ]
    }
  ]
}