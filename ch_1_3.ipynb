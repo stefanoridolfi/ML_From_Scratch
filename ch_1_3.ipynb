{
  "nbformat": 4,
  "nbformat_minor": 0,
  "metadata": {
    "colab": {
      "name": "Untitled",
      "provenance": [],
      "include_colab_link": true
    },
    "kernelspec": {
      "name": "python3",
      "display_name": "Python 3"
    }
  },
  "cells": [
    {
      "cell_type": "markdown",
      "metadata": {
        "id": "view-in-github",
        "colab_type": "text"
      },
      "source": [
        "<a href=\"https://colab.research.google.com/github/stefanoridolfi/ML_From_scratch/blob/master/ch_1_3.ipynb\" target=\"_parent\"><img src=\"https://colab.research.google.com/assets/colab-badge.svg\" alt=\"Open In Colab\"/></a>"
      ]
    },
    {
      "cell_type": "code",
      "metadata": {
        "id": "oa3v0S-Sh9zh",
        "colab_type": "code",
        "colab": {
          "base_uri": "https://localhost:8080/",
          "height": 34
        },
        "outputId": "a3cec706-f4b5-4324-ec8d-e7f861da5748"
      },
      "source": [
        "from random import seed\n",
        "from random import randrange\n",
        "# function that split dataset in two parts, train and test\n",
        "def train_test_split(dataset,split=0.6):\n",
        "  train_list=[]\n",
        "  train_size=int(split*len(dataset))\n",
        "  test_list=list(dataset)\n",
        "  while len(train_list)  <train_size:\n",
        "    index=randrange(len(test_list))\n",
        "    #print(\"index=\",index)\n",
        "    elem=test_list.pop(index)\n",
        "    train_list.append(elem)\n",
        "  return train_list, test_list\n",
        "\n",
        "lista=[[0],[1],[2],[3],[4]]\n",
        "\n",
        "train, test =train_test_split(lista)\n",
        "print(\"train=\",train, \"       test=\",test)\n"
      ],
      "execution_count": 143,
      "outputs": [
        {
          "output_type": "stream",
          "text": [
            "train= [[3], [4], [1]]        test= [[0], [2]]\n"
          ],
          "name": "stdout"
        }
      ]
    }
  ]
}