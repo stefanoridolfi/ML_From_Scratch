{
  "nbformat": 4,
  "nbformat_minor": 0,
  "metadata": {
    "colab": {
      "name": "Untitled",
      "provenance": [],
      "include_colab_link": true
    },
    "kernelspec": {
      "name": "python3",
      "display_name": "Python 3"
    }
  },
  "cells": [
    {
      "cell_type": "markdown",
      "metadata": {
        "id": "view-in-github",
        "colab_type": "text"
      },
      "source": [
        "<a href=\"https://colab.research.google.com/github/stefanoridolfi/ML_From_scratch/blob/master/ch_1_3.ipynb\" target=\"_parent\"><img src=\"https://colab.research.google.com/assets/colab-badge.svg\" alt=\"Open In Colab\"/></a>"
      ]
    },
    {
      "cell_type": "code",
      "metadata": {
        "id": "oa3v0S-Sh9zh",
        "colab_type": "code",
        "outputId": "4e0f5f71-946e-48f4-cb1f-fced220f29b3",
        "colab": {
          "base_uri": "https://localhost:8080/",
          "height": 354
        }
      },
      "source": [
        "from random import seed\n",
        "from random import randrange\n",
        "# function that splits dataset in two parts, train and test\n",
        "def train_test_split(dataset,split=0.7):\n",
        "  train_list=[]\n",
        "  train_size=int(split*len(dataset))\n",
        "  test_list=list(dataset)\n",
        "  while len(train_list)  <train_size:\n",
        "    index=randrange(len(test_list))\n",
        "    #print(\"index=\",index)\n",
        "    elem=test_list.pop(index)\n",
        "    train_list.append(elem)\n",
        "  return train_list, test_list\n",
        "\n",
        "lista=[[1,2,3,4],[21,22,23,24],[31,32,33,34],[41,42,43,44],[51,52,53,54],[61,62,63,64],[71,72,73,74],[81,82,83,84]]\n",
        "\n",
        "train, test =train_test_split(lista)\n",
        "print(\"train=\",train, \"       test=\",test)\n",
        "\n",
        "\n",
        "# Function that splits  dataset in k folds : result is a list of list of folds, inside is fold there are lists that are the columns of dataset\n",
        "def cross_validation_split(dataset, folds=2):\n",
        "  dataset_split=list()\n",
        "  dataset_copy=list(dataset)\n",
        "  print(\"len dataset\", len(dataset))\n",
        "  fold_size=int(len(dataset)/folds)\n",
        "  for i in range(folds):\n",
        "    fold=[]\n",
        "    while len(fold)<fold_size:\n",
        "      index=randrange(len(dataset_copy))\n",
        "      elem=dataset_copy.pop(index)\n",
        "      fold.append(elem)\n",
        "    dataset_split.append(fold)\n",
        "  return dataset_split\n",
        "dataset_folds=cross_validation_split(lista, folds=4)\n",
        "print(\"dataset_folds\",dataset_folds, \"len\",len(dataset_folds))\n",
        "for i in range(len(dataset_folds)):\n",
        "  print (\"\\nfold\",i,\"==\",dataset_folds[i])\n",
        "for f in dataset_folds:\n",
        "  print(\"\\nfold\",f)"
      ],
      "execution_count": 43,
      "outputs": [
        {
          "output_type": "stream",
          "text": [
            "train= [[51, 52, 53, 54], [71, 72, 73, 74], [31, 32, 33, 34], [61, 62, 63, 64], [81, 82, 83, 84]]        test= [[1, 2, 3, 4], [21, 22, 23, 24], [41, 42, 43, 44]]\n",
            "len dataset 8\n",
            "dataset_folds [[[81, 82, 83, 84], [41, 42, 43, 44]], [[51, 52, 53, 54], [1, 2, 3, 4]], [[61, 62, 63, 64], [21, 22, 23, 24]], [[31, 32, 33, 34], [71, 72, 73, 74]]] len 4\n",
            "\n",
            "fold 0 == [[81, 82, 83, 84], [41, 42, 43, 44]]\n",
            "\n",
            "fold 1 == [[51, 52, 53, 54], [1, 2, 3, 4]]\n",
            "\n",
            "fold 2 == [[61, 62, 63, 64], [21, 22, 23, 24]]\n",
            "\n",
            "fold 3 == [[31, 32, 33, 34], [71, 72, 73, 74]]\n",
            "\n",
            "fold [[81, 82, 83, 84], [41, 42, 43, 44]]\n",
            "\n",
            "fold [[51, 52, 53, 54], [1, 2, 3, 4]]\n",
            "\n",
            "fold [[61, 62, 63, 64], [21, 22, 23, 24]]\n",
            "\n",
            "fold [[31, 32, 33, 34], [71, 72, 73, 74]]\n"
          ],
          "name": "stdout"
        }
      ]
    }
  ]
}