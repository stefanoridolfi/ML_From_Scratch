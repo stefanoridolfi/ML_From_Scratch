{
  "nbformat": 4,
  "nbformat_minor": 0,
  "metadata": {
    "colab": {
      "name": "Untitled17.ipynb",
      "provenance": [],
      "authorship_tag": "ABX9TyNv+dSP10bcQIP7cc3ZtegL",
      "include_colab_link": true
    },
    "kernelspec": {
      "name": "python3",
      "display_name": "Python 3"
    }
  },
  "cells": [
    {
      "cell_type": "markdown",
      "metadata": {
        "id": "view-in-github",
        "colab_type": "text"
      },
      "source": [
        "<a href=\"https://colab.research.google.com/github/stefanoridolfi/ML_From_scratch/blob/master/api1.ipynb\" target=\"_parent\"><img src=\"https://colab.research.google.com/assets/colab-badge.svg\" alt=\"Open In Colab\"/></a>"
      ]
    },
    {
      "cell_type": "code",
      "metadata": {
        "id": "6TArKTAOOKDv",
        "colab_type": "code",
        "colab": {
          "base_uri": "https://localhost:8080/",
          "height": 275
        },
        "outputId": "596aa8a3-cb5b-476a-a159-95f5d1205199"
      },
      "source": [
        "'''\n",
        "\n",
        "requests.post('https://httpbin.org/post', data={'key':'value'})\n",
        ">>> requests.put('https://httpbin.org/put', data={'key':'value'})\n",
        ">>> requests.delete('https://httpbin.org/delete')\n",
        ">>> requests.head('https://httpbin.org/get')\n",
        ">>> requests.patch('https://httpbin.org/patch', data={'key':'value'})\n",
        ">>> requests.options('https://httpbin.org/get')\n",
        "requests.get('https://api.github.com/user', auth=('username', getpass()))\n",
        "'''\n",
        "import requests\n",
        "import json\n",
        "#apikey=294b7377ca21657c04b5781f0ea148ca\n",
        "\n",
        "URL= 'http://api.openweathermap.org/data/2.5/weather?q=Rome,Italy&mode=xml&appid=294b7377ca21657c04b5781f0ea148ca'\n",
        "response=requests.get('http://api.openweathermap.org/data/2.5/weather?q=Roma,it&mode=json&appid=294b7377ca21657c04b5781f0ea148ca')\n",
        "response=response.json()\n",
        "print(\"response=\",response)\n",
        "for key, value  in response.items():\n",
        "  print(key,value)\n"
      ],
      "execution_count": 60,
      "outputs": [
        {
          "output_type": "stream",
          "text": [
            "response= {'coord': {'lon': 12.48, 'lat': 41.89}, 'weather': [{'id': 800, 'main': 'Clear', 'description': 'clear sky', 'icon': '01d'}], 'base': 'stations', 'main': {'temp': 287.53, 'feels_like': 284.14, 'temp_min': 284.26, 'temp_max': 290.15, 'pressure': 1020, 'humidity': 58}, 'visibility': 10000, 'wind': {'speed': 3.6, 'deg': 200}, 'clouds': {'all': 0}, 'dt': 1580396248, 'sys': {'type': 1, 'id': 6792, 'country': 'IT', 'sunrise': 1580365518, 'sunset': 1580401263}, 'timezone': 3600, 'id': 3169070, 'name': 'Rome', 'cod': 200}\n",
            "coord {'lon': 12.48, 'lat': 41.89}\n",
            "weather [{'id': 800, 'main': 'Clear', 'description': 'clear sky', 'icon': '01d'}]\n",
            "base stations\n",
            "main {'temp': 287.53, 'feels_like': 284.14, 'temp_min': 284.26, 'temp_max': 290.15, 'pressure': 1020, 'humidity': 58}\n",
            "visibility 10000\n",
            "wind {'speed': 3.6, 'deg': 200}\n",
            "clouds {'all': 0}\n",
            "dt 1580396248\n",
            "sys {'type': 1, 'id': 6792, 'country': 'IT', 'sunrise': 1580365518, 'sunset': 1580401263}\n",
            "timezone 3600\n",
            "id 3169070\n",
            "name Rome\n",
            "cod 200\n"
          ],
          "name": "stdout"
        }
      ]
    }
  ]
}