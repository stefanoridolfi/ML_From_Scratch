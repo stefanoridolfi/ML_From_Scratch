{
  "nbformat": 4,
  "nbformat_minor": 0,
  "metadata": {
    "colab": {
      "name": "Untitled17.ipynb",
      "provenance": [],
      "authorship_tag": "ABX9TyO4GkoMRxabyfibROwegse0",
      "include_colab_link": true
    },
    "kernelspec": {
      "name": "python3",
      "display_name": "Python 3"
    }
  },
  "cells": [
    {
      "cell_type": "markdown",
      "metadata": {
        "id": "view-in-github",
        "colab_type": "text"
      },
      "source": [
        "<a href=\"https://colab.research.google.com/github/stefanoridolfi/ML_From_scratch/blob/master/api1.ipynb\" target=\"_parent\"><img src=\"https://colab.research.google.com/assets/colab-badge.svg\" alt=\"Open In Colab\"/></a>"
      ]
    },
    {
      "cell_type": "code",
      "metadata": {
        "id": "6TArKTAOOKDv",
        "colab_type": "code",
        "colab": {
          "base_uri": "https://localhost:8080/",
          "height": 54
        },
        "outputId": "54205a9f-5abd-4b2d-e963-18fe73ac8b8c"
      },
      "source": [
        "'''\n",
        "\n",
        "requests.post('https://httpbin.org/post', data={'key':'value'})\n",
        ">>> requests.put('https://httpbin.org/put', data={'key':'value'})\n",
        ">>> requests.delete('https://httpbin.org/delete')\n",
        ">>> requests.head('https://httpbin.org/get')\n",
        ">>> requests.patch('https://httpbin.org/patch', data={'key':'value'})\n",
        ">>> requests.options('https://httpbin.org/get')\n",
        "requests.get('https://api.github.com/user', auth=('username', getpass()))\n",
        "'''\n",
        "import requests\n",
        "#apikey=294b7377ca21657c04b5781f0ea148ca\n",
        "\n",
        "URL= 'http://api.openweathermap.org/data/2.5/weather?q=Rome,Italy&mode=xml&appid=294b7377ca21657c04b5781f0ea148ca'\n",
        "response=requests.get('http://api.openweathermap.org/data/2.5/weather?q=Rome,Italy&mode=json&appid=294b7377ca21657c04b5781f0ea148ca')\n",
        "#response=requests.get('http://repubblica.it')\n",
        "print(\"response=\",response.json())"
      ],
      "execution_count": 28,
      "outputs": [
        {
          "output_type": "stream",
          "text": [
            "response= {'coord': {'lon': -85.16, 'lat': 34.26}, 'weather': [{'id': 800, 'main': 'Clear', 'description': 'clear sky', 'icon': '01n'}], 'base': 'stations', 'main': {'temp': 274.17, 'feels_like': 271.59, 'temp_min': 270.93, 'temp_max': 278.15, 'pressure': 1020, 'humidity': 94}, 'visibility': 16093, 'wind': {'speed': 0.88, 'deg': 72}, 'clouds': {'all': 1}, 'dt': 1580386356, 'sys': {'type': 1, 'id': 5680, 'country': 'US', 'sunrise': 1580387989, 'sunset': 1580425665}, 'timezone': -18000, 'id': 4219762, 'name': 'Rome', 'cod': 200}\n"
          ],
          "name": "stdout"
        }
      ]
    }
  ]
}