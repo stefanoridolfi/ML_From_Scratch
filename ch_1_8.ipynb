{
  "nbformat": 4,
  "nbformat_minor": 0,
  "metadata": {
    "colab": {
      "name": "Untitled14.ipynb",
      "provenance": [],
      "authorship_tag": "ABX9TyNfE39vc0dJYBdRG/5xO1Ic",
      "include_colab_link": true
    },
    "kernelspec": {
      "name": "python3",
      "display_name": "Python 3"
    }
  },
  "cells": [
    {
      "cell_type": "markdown",
      "metadata": {
        "id": "view-in-github",
        "colab_type": "text"
      },
      "source": [
        "<a href=\"https://colab.research.google.com/github/stefanoridolfi/ML_From_scratch/blob/master/ch_1_8.ipynb\" target=\"_parent\"><img src=\"https://colab.research.google.com/assets/colab-badge.svg\" alt=\"Open In Colab\"/></a>"
      ]
    },
    {
      "cell_type": "code",
      "metadata": {
        "id": "G_iP5BKkjwlj",
        "colab_type": "code",
        "colab": {
          "base_uri": "https://localhost:8080/",
          "height": 156
        },
        "outputId": "fe59db07-3cf6-49e1-c24e-c8697a3100b2"
      },
      "source": [
        "# FROM ch_1_1.ipynb##########################\n",
        "##############################################\n",
        "import pandas as pd\n",
        "from random import seed\n",
        "from random import randrange\n",
        "from csv import reader\n",
        "from math import sqrt\n",
        "\n",
        "''' if no headers in csv\n",
        "def load_csv(filename_url):\n",
        "  CSV_url=filename_url\n",
        "  pdfile=pd.read_csv(CSV_url,header=None)\n",
        "  dataset=pdfile.values.tolist()\n",
        "  return dataset\n",
        "  '''\n",
        "\n",
        "# CVS with headers ##################\n",
        "def load_csv(filename_url):\n",
        "  CSV_url=filename_url\n",
        "  pdfile=pd.read_csv(CSV_url,sep=';',nrows=1)\n",
        "  headers=pdfile.head()\n",
        "  dataset=pdfile.values.tolist()\n",
        "  return dataset, list(headers)\n",
        "##################\n",
        "\n",
        "# Dataset are in https://github.com/jbrownlee/Datasets\n",
        "\n",
        "#dataset winequality\n",
        "CSV_url='https://raw.githubusercontent.com/stefanoridolfi/ML_From_scratch/master/winequality-white.csv'\n",
        "\n",
        "dataset, headers = load_csv(CSV_url)\n",
        "print('Loaded data file {0} with {1} rows and {2} columns\\n\\n'.format(CSV_url, len(dataset),len(dataset[0])))\n",
        "print(\"dataset with\",len(headers),\"headers\\n Headers:  \",headers)\n",
        "print(\"dataset:\\n\",dataset)\n",
        "\n",
        "# Convert string column to float\n",
        "def str_column_to_float(dataset, column):\n",
        "  for row in dataset:\n",
        "    row[column] = float(row[column].strip())\n"
      ],
      "execution_count": 16,
      "outputs": [
        {
          "output_type": "stream",
          "text": [
            "Loaded data file https://raw.githubusercontent.com/stefanoridolfi/ML_From_scratch/master/winequality-white.csv with 1 rows and 12 columns\n",
            "\n",
            "\n",
            "dataset with 12 headers\n",
            " Headers:   ['fixed acidity', 'volatile acidity', 'citric acid', 'residual sugar', 'chlorides', 'free sulfur dioxide', 'total sulfur dioxide', 'density', 'pH', 'sulphates', 'alcohol', 'quality']\n",
            "dataset:\n",
            " [[7.0, 0.27, 0.36, 20.7, 0.045, 45.0, 170.0, 1.001, 3.0, 0.45, 8.8, 6.0]]\n"
          ],
          "name": "stdout"
        }
      ]
    }
  ]
}