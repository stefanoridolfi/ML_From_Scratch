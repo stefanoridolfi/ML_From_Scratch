{
  "nbformat": 4,
  "nbformat_minor": 0,
  "metadata": {
    "colab": {
      "name": "Untitled26.ipynb",
      "provenance": [],
      "authorship_tag": "ABX9TyMMQovjQUK25hlfu+rvUrSu",
      "include_colab_link": true
    },
    "kernelspec": {
      "name": "python3",
      "display_name": "Python 3"
    }
  },
  "cells": [
    {
      "cell_type": "markdown",
      "metadata": {
        "id": "view-in-github",
        "colab_type": "text"
      },
      "source": [
        "<a href=\"https://colab.research.google.com/github/stefanoridolfi/ML_From_scratch/blob/master/ch_1_13_KNN.ipynb\" target=\"_parent\"><img src=\"https://colab.research.google.com/assets/colab-badge.svg\" alt=\"Open In Colab\"/></a>"
      ]
    },
    {
      "cell_type": "code",
      "metadata": {
        "id": "J0KApF4gFBNf",
        "colab_type": "code",
        "colab": {
          "base_uri": "https://localhost:8080/",
          "height": 187
        },
        "outputId": "d525e6ef-9de6-45b1-8596-eeba4d64983c"
      },
      "source": [
        "##############################################\n",
        "import pandas as pd\n",
        "from random import seed\n",
        "from random import randrange\n",
        "from csv import reader\n",
        "from math import sqrt,exp\n",
        "\n",
        "''' if no headers in csv\n",
        "def load_csv(filename_url):\n",
        "  CSV_url=filename_url\n",
        "  pdfile=pd.read_csv(CSV_url,header=None)\n",
        "  dataset=pdfile.values.tolist()\n",
        "  return dataset\n",
        "  '''\n",
        "'''if header in csv\n",
        "#CVS with headers ##################\n",
        "def load_csv(filename_url):\n",
        "  CSV_url=filename_url\n",
        "  pdfile=pd.read_csv(CSV_url,sep=';',nrows=48)\n",
        "  #pdfile=pd.read_csv(CSV_url,sep=';')\n",
        "  headers=pdfile.head()\n",
        "  dataset=pdfile.values.tolist()\n",
        "  return dataset, list(headers)\n",
        "  '''\n",
        "def load_csv(filename_url):\n",
        "  CSV_url=filename_url\n",
        "  #pdfile=pd.read_csv(CSV_url,header=None,skiprows=749, nrows=30)\n",
        "  pdfile=pd.read_csv(CSV_url,header=None)\n",
        "  dataset=pdfile.values.tolist()\n",
        "  return dataset\n",
        "\n",
        "##calculate the Euclidean distance between two vectors\n",
        "def euclidean_distance(row1, row2):\n",
        "  distance = 0.0\n",
        "  for i in range(len(row1)-1):\n",
        "    distance += (row1[i] - row2[i])**2\n",
        "  return sqrt(distance)\n",
        "\n",
        "# calculate the num_neighbors of train respect to test_row: is distance between test_row and each of row in train\n",
        "def get_neighbors(train, test_row, num_neighbors):\n",
        "  distances = list()\n",
        "  for riga in train:\n",
        "    distance=euclidean_distance(test_row,riga)\n",
        "    distances.append(riga,distance)\n",
        "    distances.sort(key=lambda tup:tup[1])\n",
        "\n",
        "\n",
        "\n",
        "##################\n",
        "\n",
        "# Dataset are in https://github.com/jbrownlee/Datasets\n",
        "\n",
        "#dataset\n",
        "#CSV_url='https://raw.githubusercontent.com/jbrownlee/Datasets/master/banknote_authentication.csv'\n",
        "\n",
        "#dataset= load_csv(CSV_url)\n",
        "#print('Loaded data file {0} with {1} rows and {2} columns\\n\\n'.format(CSV_url, len(dataset),len(dataset[0])))ù\n",
        "dataset = [[2.7810836,2.550537003,0],\n",
        "[1.465489372,2.362125076,0],\n",
        "[3.396561688,4.400293529,0],\n",
        "[1.38807019,1.850220317,0],\n",
        "[3.06407232,3.005305973,0],\n",
        "[7.627531214,2.759262235,1],\n",
        "[5.332441248,2.088626775,1],\n",
        "[6.922596716,1.77106367,1],\n",
        "[8.675418651,-0.242068655,1],\n",
        "[7.673756466,3.508563011,1]]\n",
        "row0 = dataset[0]\n",
        "\n",
        "for row in dataset:\n",
        "  distance= euclidean_distance(row,row0)\n",
        "  print(\"distance=\",distance)\n"
      ],
      "execution_count": 2,
      "outputs": [
        {
          "output_type": "stream",
          "text": [
            "distance= 0.0\n",
            "distance= 1.3290173915275787\n",
            "distance= 1.9494646655653247\n",
            "distance= 1.5591439385540549\n",
            "distance= 0.5356280721938492\n",
            "distance= 4.850940186986411\n",
            "distance= 2.592833759950511\n",
            "distance= 4.214227042632867\n",
            "distance= 6.522409988228337\n",
            "distance= 4.985585382449795\n"
          ],
          "name": "stdout"
        }
      ]
    }
  ]
}