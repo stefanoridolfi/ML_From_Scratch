{
  "nbformat": 4,
  "nbformat_minor": 0,
  "metadata": {
    "colab": {
      "name": "Untitled9.ipynb",
      "provenance": [],
      "authorship_tag": "ABX9TyN2GENbL4XnuyOywkKVXSV6",
      "include_colab_link": true
    },
    "kernelspec": {
      "name": "python3",
      "display_name": "Python 3"
    }
  },
  "cells": [
    {
      "cell_type": "markdown",
      "metadata": {
        "id": "view-in-github",
        "colab_type": "text"
      },
      "source": [
        "<a href=\"https://colab.research.google.com/github/stefanoridolfi/ML_From_scratch/blob/master/ch_1_4.ipynb\" target=\"_parent\"><img src=\"https://colab.research.google.com/assets/colab-badge.svg\" alt=\"Open In Colab\"/></a>"
      ]
    },
    {
      "cell_type": "code",
      "metadata": {
        "id": "npTKEwgjlKnf",
        "colab_type": "code",
        "outputId": "d3f5f4a2-9150-4e97-b34e-417319569483",
        "colab": {
          "base_uri": "https://localhost:8080/",
          "height": 119
        }
      },
      "source": [
        "from math import sqrt\n",
        "def confusion_matrix(acutal,predicted):\n",
        "    unique=list(set(actual))\n",
        "    matrix=[list() for x in range(len(unique))]\n",
        "    #print(\"matrix definita=\",matrix)\n",
        "    for i in range(len(unique)):\n",
        "            matrix[i]=[0 for x in range(len(unique))]\n",
        "     #       print(\"matrix con tutti zeri\",matrix)\n",
        "    lookup=dict()\n",
        "    for i, value in enumerate(unique):\n",
        "      #  print(\"i=\",i,\"value=\",value)\n",
        "        lookup[value]=i\n",
        "    #print(\"dict lookup riempito=\",lookup)\n",
        "    for i in range(len(actual)):\n",
        "            x=lookup[actual[i]]\n",
        "            y=lookup[predicted[i]]\n",
        "            matrix[y][x]+=1\n",
        "    return unique, matrix\n",
        "\n",
        "def print_confusion_matrix(unique,matrix):\n",
        "  print (\"P\\A  \"+\"  \".join((str(elem)) for elem in unique))\n",
        "  print(\"-------\")\n",
        "  for i in range(len(unique)):\n",
        "    print(str(unique[i]),\"| \",\"  \".join((str(matrix[i][j])) for j in range(len(unique))))\n",
        "  \n",
        "def print_confusion_matrix_ste(unique,matrix):\n",
        "  print('(P\\A) ' + '  |   '.join(str(x) for x in unique))\n",
        "  print(\"      ------------------\")\n",
        "  for i in range(len(matrix)):\n",
        "    print(str(unique[i])+\"|  \"+'  | '.join(\"  \"+str(matrix[i][j]) for j  in range(len(matrix))))\n",
        "\n",
        "\n",
        "def mae_metrcc(actual, predicted):\n",
        "  sum_error=0.0\n",
        "  for i in range(len(actual)):\n",
        "    sum_error+=abs(predicted[i]-actual[1])\n",
        "  return sum_error/float(len(actual))\n",
        "\n",
        "def rmse_metric(actual,predicted):\n",
        "  sum_error=0.0\n",
        "  for i in range(len(actual)):\n",
        "    prediction_error=actual[i]-predicted[i]\n",
        "    sum_error+=(prediction_error**2)\n",
        "    mean_error=sum_error/float(len(actual))\n",
        "    rmse=sqrt(mean_error)\n",
        "  return rmse\n",
        "\n",
        "\n",
        "actual=[0,0,0,0,0,1,1,1,5,1,5]\n",
        "predicted=[5,0,0,0,0,1,1,1,5,1,1]\n",
        "\n",
        "\n",
        "predicted1=[0.1,1.3,1.2,0.1,0,1.2,0,1.1,1.3,1.7,5.1]\n",
        "actual1=[0.1,0.1,0.3,0.5,0.7,1.1,1.2,1.2,5.3,1.1,5.1]\n",
        "\n",
        "\n",
        "unique, matrix =confusion_matrix(actual,predicted)\n",
        "print_confusion_matrix_ste(unique,matrix)\n",
        "rmse=rmse_metric(actual1,predicted1)\n",
        "print(\"rmse=\",rmse)"
      ],
      "execution_count": 7,
      "outputs": [
        {
          "output_type": "stream",
          "text": [
            "(P\\A) 0  |   1  |   5\n",
            "      ------------------\n",
            "0|    4  |   0  |   0\n",
            "1|    0  |   4  |   1\n",
            "5|    1  |   0  |   1\n",
            "rmse= 1.3724563248556814\n"
          ],
          "name": "stdout"
        }
      ]
    }
  ]
}