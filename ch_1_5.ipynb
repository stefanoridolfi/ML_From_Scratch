{
  "nbformat": 4,
  "nbformat_minor": 0,
  "metadata": {
    "colab": {
      "name": "Untitled11.ipynb",
      "provenance": [],
      "authorship_tag": "ABX9TyNQvoLR+SOsHeUV20nr2k/P",
      "include_colab_link": true
    },
    "kernelspec": {
      "name": "python3",
      "display_name": "Python 3"
    }
  },
  "cells": [
    {
      "cell_type": "markdown",
      "metadata": {
        "id": "view-in-github",
        "colab_type": "text"
      },
      "source": [
        "<a href=\"https://colab.research.google.com/github/stefanoridolfi/ML_From_scratch/blob/master/ch_1_5.ipynb\" target=\"_parent\"><img src=\"https://colab.research.google.com/assets/colab-badge.svg\" alt=\"Open In Colab\"/></a>"
      ]
    },
    {
      "cell_type": "code",
      "metadata": {
        "id": "Kta8h1ruuYbS",
        "colab_type": "code",
        "colab": {
          "base_uri": "https://localhost:8080/",
          "height": 34
        },
        "outputId": "52840140-e860-4ccf-a4d4-67ba8bff067f"
      },
      "source": [
        "from random import seed\n",
        "from random import randrange\n",
        "\n",
        "# Generate random predictions\n",
        "def random_algorithm(train):\n",
        "    output_values = [row[-1] for row in train]\n",
        "    predicted=[]\n",
        "    unique = list(set(output_values))\n",
        "    for row in  range(len(train)):\n",
        "      index = randrange(len(unique))\n",
        "      predicted.append(unique[index])\n",
        "    return predicted\n",
        "seed(1)\n",
        "train = [[0], [1], [0], [1], [0], [1]]\n",
        "test=random_algorithm(train)\n",
        "print(test)"
      ],
      "execution_count": 1,
      "outputs": [
        {
          "output_type": "stream",
          "text": [
            "[0, 0, 1, 0, 1, 1]\n"
          ],
          "name": "stdout"
        }
      ]
    }
  ]
}