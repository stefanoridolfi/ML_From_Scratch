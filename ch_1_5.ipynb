{
  "nbformat": 4,
  "nbformat_minor": 0,
  "metadata": {
    "colab": {
      "name": "Untitled11.ipynb",
      "provenance": [],
      "authorship_tag": "ABX9TyN/vQc4Jl/fVLlc69TQ6SQ1",
      "include_colab_link": true
    },
    "kernelspec": {
      "name": "python3",
      "display_name": "Python 3"
    }
  },
  "cells": [
    {
      "cell_type": "markdown",
      "metadata": {
        "id": "view-in-github",
        "colab_type": "text"
      },
      "source": [
        "<a href=\"https://colab.research.google.com/github/stefanoridolfi/ML_From_scratch/blob/master/ch_1_5.ipynb\" target=\"_parent\"><img src=\"https://colab.research.google.com/assets/colab-badge.svg\" alt=\"Open In Colab\"/></a>"
      ]
    },
    {
      "cell_type": "code",
      "metadata": {
        "id": "Kta8h1ruuYbS",
        "colab_type": "code",
        "outputId": "aa8144dd-a207-441c-a9ee-fc8ea355befe",
        "colab": {
          "base_uri": "https://localhost:8080/",
          "height": 51
        }
      },
      "source": [
        "from random import seed\n",
        "from random import randrange\n",
        "\n",
        "# Generate random predictions\n",
        "def random_algorithm(train):\n",
        "    output_values = [row[-1] for row in train]\n",
        "    predicted=[]\n",
        "    unique = list(set(output_values))\n",
        "    for row in  range(len(train)):\n",
        "      index = randrange(len(unique))\n",
        "      predicted.append(unique[index])\n",
        "    return predicted\n",
        "\n",
        "\n",
        "from random import seed\n",
        "def zero_rule_algorithm_classification(train, test):\n",
        "    output_values = [row[-1] for row in train]\n",
        "    #print(\"output_values\", output_values)\n",
        "    #print(\"max occurrencesin output_values =\", max(set(output_values),key=output_values.count))\n",
        "    \n",
        "    prediction = max(set(output_values), key=output_values.count)\n",
        "    #print(\"prediction inside\",prediction)\n",
        "    predicted = [prediction for i in range(len(test))]\n",
        "    return predicted\n",
        "seed(1)\n",
        "train = [['0'], ['0'], ['0'], ['0'], ['1'], ['1']]\n",
        "test = [[None], [None], [None], [None]]\n",
        "predictions = zero_rule_algorithm_classification(train, test)\n",
        "print(\"zero_rule prediction\",predictions)\n",
        "\n",
        "\n",
        "test=random_algorithm(train)\n",
        "print(\"random prediction\",test)"
      ],
      "execution_count": 3,
      "outputs": [
        {
          "output_type": "stream",
          "text": [
            "zero_rule prediction ['0', '0', '0', '0']\n",
            "random prediction ['0', '0', '1', '0', '1', '1']\n"
          ],
          "name": "stdout"
        }
      ]
    }
  ]
}