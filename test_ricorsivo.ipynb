{
  "nbformat": 4,
  "nbformat_minor": 0,
  "metadata": {
    "colab": {
      "name": "Untitled16.ipynb",
      "provenance": [],
      "authorship_tag": "ABX9TyMODf1DmW0P7r75Hz5twe1X",
      "include_colab_link": true
    },
    "kernelspec": {
      "name": "python3",
      "display_name": "Python 3"
    }
  },
  "cells": [
    {
      "cell_type": "markdown",
      "metadata": {
        "id": "view-in-github",
        "colab_type": "text"
      },
      "source": [
        "<a href=\"https://colab.research.google.com/github/stefanoridolfi/ML_From_scratch/blob/master/test_ricorsivo.ipynb\" target=\"_parent\"><img src=\"https://colab.research.google.com/assets/colab-badge.svg\" alt=\"Open In Colab\"/></a>"
      ]
    },
    {
      "cell_type": "code",
      "metadata": {
        "colab_type": "code",
        "outputId": "25c14e85-8dda-4d34-e080-a66194345df8",
        "id": "Pe5Y98GtKM_Q",
        "colab": {
          "base_uri": "https://localhost:8080/",
          "height": 176
        }
      },
      "source": [
        "from random import seed\n",
        "from random import randrange\n",
        "seed(1)\n",
        "def princip(node):\n",
        "  left, right =node['groups']\n",
        "  if len(left)<=2:\n",
        "    return\n",
        "  else:\n",
        "    node['left']=get_split(left)\n",
        "    node['right']=get_split(rigth)\n",
        "\n",
        "def split_in2(dataset,level):\n",
        "  split=0.5\n",
        "  left=[]\n",
        "  train_size=int(split*len(dataset))\n",
        "  rigth=list(dataset)\n",
        "  i=0\n",
        "  while len(left)  <train_size:\n",
        "    index=i\n",
        "    elem=rigth.pop(index)\n",
        "    left.append(elem)\n",
        "  b_groups=[left, rigth]\n",
        "  i+=1\n",
        "  return {'level':level,'groups':b_groups}\n",
        "\n",
        "def get_split(node,level):\n",
        "    #print(\"\\nrichiamo get_split prima elaborazione livello\", level,\"  node=\",node)\n",
        "    left, rigth = node['groups']\n",
        "    b_groups=[left, rigth]\n",
        "    print(\"\\nget_split dopo elaborazione del livello\",level, \"  left=\",left)\n",
        "    if len(left)>1:\n",
        "      node['left']=split_in2(left,level+1)\n",
        "      get_split(node['left'],node['level'])\n",
        "    else:\n",
        "      return node\n",
        "\n",
        "def build_tree(node):\n",
        "    root = get_split(node,0)\n",
        "    return root\n",
        "  \n",
        "dataset=[[1,2,3,],[4,5,6],[7,8,9],[10,11,12]]\n",
        "dataset2=[[1,1,1,],[2,2,2],[3,3,3],[4,4,4],[5,5,5,],[6,6,6],[7,7,7],[8,8,8]]\n",
        "\n",
        "\n",
        "\n",
        "node=split_in2(dataset2,0)\n",
        "print(\"node in main\\n\",node)\n",
        "root=build_tree(node)\n",
        "print(\"root\",root)"
      ],
      "execution_count": 18,
      "outputs": [
        {
          "output_type": "stream",
          "text": [
            "node in main\n",
            " {'level': 0, 'groups': [[[1, 1, 1], [2, 2, 2], [3, 3, 3], [4, 4, 4]], [[5, 5, 5], [6, 6, 6], [7, 7, 7], [8, 8, 8]]]}\n",
            "\n",
            "get_split dopo elaborazione del livello 0   left= [[1, 1, 1], [2, 2, 2], [3, 3, 3], [4, 4, 4]]\n",
            "\n",
            "get_split dopo elaborazione del livello 0   left= [[1, 1, 1], [2, 2, 2]]\n",
            "\n",
            "get_split dopo elaborazione del livello 1   left= [[1, 1, 1]]\n",
            "root None\n"
          ],
          "name": "stdout"
        }
      ]
    }
  ]
}