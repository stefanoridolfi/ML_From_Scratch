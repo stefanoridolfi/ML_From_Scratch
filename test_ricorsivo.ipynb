{
  "nbformat": 4,
  "nbformat_minor": 0,
  "metadata": {
    "colab": {
      "name": "Untitled16.ipynb",
      "provenance": [],
      "authorship_tag": "ABX9TyMMMXwhEeNRnBjfpFUDlFz0",
      "include_colab_link": true
    },
    "kernelspec": {
      "name": "python3",
      "display_name": "Python 3"
    }
  },
  "cells": [
    {
      "cell_type": "markdown",
      "metadata": {
        "id": "view-in-github",
        "colab_type": "text"
      },
      "source": [
        "<a href=\"https://colab.research.google.com/github/stefanoridolfi/ML_From_scratch/blob/master/test_ricorsivo.ipynb\" target=\"_parent\"><img src=\"https://colab.research.google.com/assets/colab-badge.svg\" alt=\"Open In Colab\"/></a>"
      ]
    },
    {
      "cell_type": "code",
      "metadata": {
        "colab_type": "code",
        "outputId": "485ba3f2-e593-4439-8017-e284ede2ee5d",
        "id": "Pe5Y98GtKM_Q",
        "colab": {
          "base_uri": "https://localhost:8080/",
          "height": 139
        }
      },
      "source": [
        "from random import seed\n",
        "from random import randrange\n",
        "seed(1)\n",
        "def princip(node):\n",
        "  left, right =node['groups']\n",
        "  if len(left)<=2:\n",
        "    return\n",
        "  else:\n",
        "    node['left']=get_split(left)\n",
        "    node['right']=get_split(rigth)\n",
        "\n",
        "def split_in2(dataset,level):\n",
        "  split=0.5\n",
        "  left=[]\n",
        "  train_size=int(split*len(dataset))\n",
        "  rigth=list(dataset)\n",
        "  i=0\n",
        "  while len(left)  <train_size:\n",
        "    index=i\n",
        "    elem=rigth.pop(index)\n",
        "    left.append(elem)\n",
        "  b_groups=[left, rigth]\n",
        "  i+=1\n",
        "  return {'level':level,'groups':b_groups}\n",
        "\n",
        "def get_split(node):\n",
        "  left, rigth = node['groups']\n",
        "  if len(left)>1:\n",
        "    level=node['level']\n",
        "    node['left']=split_in2(left,level+1)\n",
        "    get_split(node['left'])\n",
        "    node['rigth']=split_in2(rigth,level+1)\n",
        "    get_split(node['rigth'])\n",
        "  else:\n",
        "    return \n",
        "\n",
        "def build_tree(node):\n",
        "    root=split_in2(dataset,0)\n",
        "    get_split(root)\n",
        "    return root\n",
        "dataset=[]\n",
        "for i in range(1,9):\n",
        "  dataset.append([i])\n",
        "\n",
        "print(\"dataset\",dataset)\n",
        "\n",
        "\n",
        "def print_tree(node):\n",
        "  if 'left' in node.keys():\n",
        "    l=node['left']\n",
        "    r=node['rigth']\n",
        "    print(\"left:\",l['groups'],\"***** rigth:\",r['groups'])\n",
        "    #print(l)\n",
        "    print_tree(l)\n",
        "    print_tree(r)\n",
        "\n",
        "  \n",
        "#node=split_in2(dataset,0)\n",
        "#print(\"\\nnode=\",node)\n",
        "tree=build_tree(node)\n",
        "print(\"tree\",tree,\"\\n\")\n",
        "print_tree(tree)\n"
      ],
      "execution_count": 96,
      "outputs": [
        {
          "output_type": "stream",
          "text": [
            "dataset [[1], [2], [3], [4], [5], [6], [7], [8]]\n",
            "tree {'level': 0, 'groups': [[[1], [2], [3], [4]], [[5], [6], [7], [8]]], 'left': {'level': 1, 'groups': [[[1], [2]], [[3], [4]]], 'left': {'level': 2, 'groups': [[[1]], [[2]]]}, 'rigth': {'level': 2, 'groups': [[[3]], [[4]]]}}, 'rigth': {'level': 1, 'groups': [[[5], [6]], [[7], [8]]], 'left': {'level': 2, 'groups': [[[5]], [[6]]]}, 'rigth': {'level': 2, 'groups': [[[7]], [[8]]]}}} \n",
            "\n",
            "left: [[[1], [2]], [[3], [4]]] ***** rigth: [[[5], [6]], [[7], [8]]]\n",
            "left: [[[1]], [[2]]] ***** rigth: [[[3]], [[4]]]\n",
            "left: [[[5]], [[6]]] ***** rigth: [[[7]], [[8]]]\n"
          ],
          "name": "stdout"
        }
      ]
    },
    {
      "cell_type": "markdown",
      "metadata": {
        "id": "XHGrnGLpBPR1",
        "colab_type": "text"
      },
      "source": [
        ""
      ]
    }
  ]
}