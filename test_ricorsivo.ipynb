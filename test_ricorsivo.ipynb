{
  "nbformat": 4,
  "nbformat_minor": 0,
  "metadata": {
    "colab": {
      "name": "Untitled16.ipynb",
      "provenance": [],
      "authorship_tag": "ABX9TyN0uS20I4kkZ+SUmOiIn5+T",
      "include_colab_link": true
    },
    "kernelspec": {
      "name": "python3",
      "display_name": "Python 3"
    }
  },
  "cells": [
    {
      "cell_type": "markdown",
      "metadata": {
        "id": "view-in-github",
        "colab_type": "text"
      },
      "source": [
        "<a href=\"https://colab.research.google.com/github/stefanoridolfi/ML_From_scratch/blob/master/test_ricorsivo.ipynb\" target=\"_parent\"><img src=\"https://colab.research.google.com/assets/colab-badge.svg\" alt=\"Open In Colab\"/></a>"
      ]
    },
    {
      "cell_type": "code",
      "metadata": {
        "colab_type": "code",
        "outputId": "8832aaae-5998-4726-c2e0-cd37a1e2f900",
        "id": "Pe5Y98GtKM_Q",
        "colab": {
          "base_uri": "https://localhost:8080/",
          "height": 173
        }
      },
      "source": [
        "from random import seed\n",
        "from random import randrange\n",
        "seed(1)\n",
        "def princip(node):\n",
        "  left, right =node['groups']\n",
        "  if len(left)<=2:\n",
        "    return\n",
        "  else:\n",
        "    node['left']=get_split(left)\n",
        "    node['right']=get_split(rigth)\n",
        "\n",
        "def split_in2(dataset,level):\n",
        "  split=0.5\n",
        "  left=[]\n",
        "  train_size=int(split*len(dataset))\n",
        "  rigth=list(dataset)\n",
        "  i=0\n",
        "  while len(left)  <train_size:\n",
        "    index=i\n",
        "    elem=rigth.pop(index)\n",
        "    left.append(elem)\n",
        "  b_groups=[left, rigth]\n",
        "  i+=1\n",
        "  return {'level':level,'groups':b_groups}\n",
        "\n",
        "def get_split(node,node_s):\n",
        "  left, rigth = node['groups']\n",
        "  if len(left)>1:\n",
        "    node_s.append(node)\n",
        "    level=node['level']\n",
        "    strin=str(level)+\"left\"\n",
        "    node['left']=split_in2(left,level+1)\n",
        "    print(\"\\nnode=\",node)\n",
        "    get_split(node['left'],node_s)\n",
        "  else:\n",
        "    return \n",
        "\n",
        "def build_tree(node):\n",
        "    root = get_split(node,[])\n",
        "    return root\n",
        "dataset=[]\n",
        "for i in range(1,17):\n",
        "  dataset.append([i,i])\n",
        "\n",
        "print(\"dataset\",dataset)\n",
        "\n",
        "\n",
        "node=split_in2(dataset,0)\n",
        "#print(\"\\nnode=\",node)\n",
        "res=build_tree(node)\n",
        "print(\"res\",res)"
      ],
      "execution_count": 54,
      "outputs": [
        {
          "output_type": "stream",
          "text": [
            "dataset [[1, 1], [2, 2], [3, 3], [4, 4], [5, 5], [6, 6], [7, 7], [8, 8], [9, 9], [10, 10], [11, 11], [12, 12], [13, 13], [14, 14], [15, 15], [16, 16]]\n",
            "\n",
            "node= {'level': 0, 'groups': [[[1, 1], [2, 2], [3, 3], [4, 4], [5, 5], [6, 6], [7, 7], [8, 8]], [[9, 9], [10, 10], [11, 11], [12, 12], [13, 13], [14, 14], [15, 15], [16, 16]]], 'left': {'level': 1, 'groups': [[[1, 1], [2, 2], [3, 3], [4, 4]], [[5, 5], [6, 6], [7, 7], [8, 8]]]}}\n",
            "\n",
            "node= {'level': 1, 'groups': [[[1, 1], [2, 2], [3, 3], [4, 4]], [[5, 5], [6, 6], [7, 7], [8, 8]]], 'left': {'level': 2, 'groups': [[[1, 1], [2, 2]], [[3, 3], [4, 4]]]}}\n",
            "\n",
            "node= {'level': 2, 'groups': [[[1, 1], [2, 2]], [[3, 3], [4, 4]]], 'left': {'level': 3, 'groups': [[[1, 1]], [[2, 2]]]}}\n",
            "res None\n"
          ],
          "name": "stdout"
        }
      ]
    },
    {
      "cell_type": "markdown",
      "metadata": {
        "id": "XHGrnGLpBPR1",
        "colab_type": "text"
      },
      "source": [
        ""
      ]
    }
  ]
}