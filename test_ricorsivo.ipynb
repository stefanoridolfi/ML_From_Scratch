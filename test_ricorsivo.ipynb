{
  "nbformat": 4,
  "nbformat_minor": 0,
  "metadata": {
    "colab": {
      "name": "Untitled16.ipynb",
      "provenance": [],
      "authorship_tag": "ABX9TyN013HkzCYcA6Gne4R/vZux",
      "include_colab_link": true
    },
    "kernelspec": {
      "name": "python3",
      "display_name": "Python 3"
    }
  },
  "cells": [
    {
      "cell_type": "markdown",
      "metadata": {
        "id": "view-in-github",
        "colab_type": "text"
      },
      "source": [
        "<a href=\"https://colab.research.google.com/github/stefanoridolfi/ML_From_scratch/blob/master/test_ricorsivo.ipynb\" target=\"_parent\"><img src=\"https://colab.research.google.com/assets/colab-badge.svg\" alt=\"Open In Colab\"/></a>"
      ]
    },
    {
      "cell_type": "code",
      "metadata": {
        "colab_type": "code",
        "outputId": "e3f4ed49-77bd-4d8c-d602-45a2b96c65b1",
        "id": "Pe5Y98GtKM_Q",
        "colab": {
          "base_uri": "https://localhost:8080/",
          "height": 139
        }
      },
      "source": [
        "from random import seed\n",
        "from random import randrange\n",
        "seed(1)\n",
        "def princip(node):\n",
        "  left, right =node['groups']\n",
        "  if len(left)<=2:\n",
        "    return\n",
        "  else:\n",
        "    node['left']=get_split(left)\n",
        "    node['right']=get_split(rigth)\n",
        "\n",
        "def split_in2(dataset,level):\n",
        "  split=0.5\n",
        "  left=[]\n",
        "  train_size=int(split*len(dataset))\n",
        "  rigth=list(dataset)\n",
        "  i=0\n",
        "  while len(left)  <train_size:\n",
        "    index=i\n",
        "    elem=rigth.pop(index)\n",
        "    left.append(elem)\n",
        "  b_groups=[left, rigth]\n",
        "  i+=1\n",
        "  return {'level':level,'groups':b_groups}\n",
        "\n",
        "def get_split(node):\n",
        "  left, rigth = node['groups']\n",
        "  if len(left)>2:\n",
        "    level=node['level']\n",
        "    node['left']=split_in2(left,level+1)\n",
        "    get_split(node['left'])\n",
        "    node['rigth']=split_in2(rigth,level+1)\n",
        "    get_split(node['rigth'])\n",
        "  else:\n",
        "    return \n",
        "\n",
        "def build_tree(node):\n",
        "    root=split_in2(dataset,0)\n",
        "    get_split(root)\n",
        "    return root\n",
        "dataset=[]\n",
        "for i in range(1,17):\n",
        "  dataset.append([i])\n",
        "\n",
        "print(\"dataset\",dataset)\n",
        "\n",
        "\n",
        "def print_tree(node):\n",
        "  #if node['level']==0:\n",
        "   # print(\"level:\",\"0\",\"---left:\",node['groups'][0],\"*****rigth:\",node['groups'][1])\n",
        "  if 'left' in node.keys():\n",
        "    #lev+=1\n",
        "    l=node['left']\n",
        "    r=node['rigth']\n",
        "    lev=node['level']\n",
        "    print(\"level:\",lev,\"---left:\",l['groups'],\"***** rigth:\",r['groups'])\n",
        "    #print(l)\n",
        "    print_tree(l)\n",
        "    print_tree(r)\n",
        "\n",
        "  \n",
        "#node=split_in2(dataset,0)\n",
        "#print(\"\\nnode=\",node)\n",
        "tree=build_tree(node)\n",
        "print(\"tree\",tree,\"\\n\")\n",
        "print_tree(tree)\n"
      ],
      "execution_count": 122,
      "outputs": [
        {
          "output_type": "stream",
          "text": [
            "dataset [[1], [2], [3], [4], [5], [6], [7], [8], [9], [10], [11], [12], [13], [14], [15], [16]]\n",
            "tree {'level': 0, 'groups': [[[1], [2], [3], [4], [5], [6], [7], [8]], [[9], [10], [11], [12], [13], [14], [15], [16]]], 'left': {'level': 1, 'groups': [[[1], [2], [3], [4]], [[5], [6], [7], [8]]], 'left': {'level': 2, 'groups': [[[1], [2]], [[3], [4]]]}, 'rigth': {'level': 2, 'groups': [[[5], [6]], [[7], [8]]]}}, 'rigth': {'level': 1, 'groups': [[[9], [10], [11], [12]], [[13], [14], [15], [16]]], 'left': {'level': 2, 'groups': [[[9], [10]], [[11], [12]]]}, 'rigth': {'level': 2, 'groups': [[[13], [14]], [[15], [16]]]}}} \n",
            "\n",
            "level: 0 ---left: [[[1], [2], [3], [4]], [[5], [6], [7], [8]]] ***** rigth: [[[9], [10], [11], [12]], [[13], [14], [15], [16]]]\n",
            "level: 1 ---left: [[[1], [2]], [[3], [4]]] ***** rigth: [[[5], [6]], [[7], [8]]]\n",
            "level: 1 ---left: [[[9], [10]], [[11], [12]]] ***** rigth: [[[13], [14]], [[15], [16]]]\n"
          ],
          "name": "stdout"
        }
      ]
    },
    {
      "cell_type": "markdown",
      "metadata": {
        "id": "XHGrnGLpBPR1",
        "colab_type": "text"
      },
      "source": [
        ""
      ]
    }
  ]
}