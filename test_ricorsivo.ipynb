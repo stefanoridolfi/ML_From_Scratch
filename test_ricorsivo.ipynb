{
  "nbformat": 4,
  "nbformat_minor": 0,
  "metadata": {
    "colab": {
      "name": "Untitled16.ipynb",
      "provenance": [],
      "authorship_tag": "ABX9TyOUo9n801BNi9sIzoFdcImc",
      "include_colab_link": true
    },
    "kernelspec": {
      "name": "python3",
      "display_name": "Python 3"
    }
  },
  "cells": [
    {
      "cell_type": "markdown",
      "metadata": {
        "id": "view-in-github",
        "colab_type": "text"
      },
      "source": [
        "<a href=\"https://colab.research.google.com/github/stefanoridolfi/ML_From_scratch/blob/master/test_ricorsivo.ipynb\" target=\"_parent\"><img src=\"https://colab.research.google.com/assets/colab-badge.svg\" alt=\"Open In Colab\"/></a>"
      ]
    },
    {
      "cell_type": "code",
      "metadata": {
        "colab_type": "code",
        "outputId": "7fe53336-c501-4b61-eeae-65f07f62757a",
        "id": "Pe5Y98GtKM_Q",
        "colab": {
          "base_uri": "https://localhost:8080/",
          "height": 224
        }
      },
      "source": [
        "from random import seed\n",
        "from random import randrange\n",
        "seed(1)\n",
        "def princip(node):\n",
        "  left, right =node['groups']\n",
        "  if len(left)<=2:\n",
        "    return\n",
        "  else:\n",
        "    node['left']=get_split(left)\n",
        "    node['right']=get_split(rigth)\n",
        "\n",
        "def split_in2(dataset,level):\n",
        "  split=0.5\n",
        "  left=[]\n",
        "  train_size=int(split*len(dataset))\n",
        "  rigth=list(dataset)\n",
        "  i=0\n",
        "  while len(left)  <train_size:\n",
        "    index=i\n",
        "    elem=rigth.pop(index)\n",
        "    left.append(elem)\n",
        "  b_groups=[left, rigth]\n",
        "  i+=1\n",
        "  return {'level':level,'groups':b_groups}\n",
        "\n",
        "def get_split(node):\n",
        "  left, rigth = node['groups']\n",
        "  if len(left)>2:\n",
        "    level=node['level']\n",
        "    node['left']=split_in2(left,level+1)\n",
        "    get_split(node['left'])\n",
        "    node['rigth']=split_in2(rigth,level+1)\n",
        "    get_split(node['rigth'])\n",
        "  else:\n",
        "    return \n",
        "\n",
        "def build_tree(node):\n",
        "    root=split_in2(dataset,0)\n",
        "    get_split(root)\n",
        "    return root\n",
        "dataset=[]\n",
        "for i in range(1,33):\n",
        "  dataset.append([i])\n",
        "\n",
        "print(\"dataset\",dataset)\n",
        "\n",
        "\n",
        "def print_tree(node):\n",
        "  if node['level']==0:\n",
        "    print(\"level:\",\"0\",\"---left:\",node['groups'][0],\"*****rigth:\",node['groups'][1])\n",
        "  if 'left' in node.keys():\n",
        "    #lev+=1\n",
        "    l=node['left']\n",
        "    r=node['rigth']\n",
        "    lev_l=l['level']\n",
        "    lev_r=r['level']\n",
        "    print(\"level:\",lev_l,\"---left:\",l['groups'],\"level:\",lev_r,\"***** rigth:\",r['groups'])\n",
        "    #print(l)\n",
        "    print_tree(l)\n",
        "    print_tree(r)\n",
        "\n",
        "  \n",
        "#node=split_in2(dataset,0)\n",
        "#print(\"\\nnode=\",node)\n",
        "tree=build_tree(node)\n",
        "print(\"tree\",tree,\"\\n\")\n",
        "print_tree(tree)\n"
      ],
      "execution_count": 125,
      "outputs": [
        {
          "output_type": "stream",
          "text": [
            "dataset [[1], [2], [3], [4], [5], [6], [7], [8], [9], [10], [11], [12], [13], [14], [15], [16], [17], [18], [19], [20], [21], [22], [23], [24], [25], [26], [27], [28], [29], [30], [31], [32]]\n",
            "tree {'level': 0, 'groups': [[[1], [2], [3], [4], [5], [6], [7], [8], [9], [10], [11], [12], [13], [14], [15], [16]], [[17], [18], [19], [20], [21], [22], [23], [24], [25], [26], [27], [28], [29], [30], [31], [32]]], 'left': {'level': 1, 'groups': [[[1], [2], [3], [4], [5], [6], [7], [8]], [[9], [10], [11], [12], [13], [14], [15], [16]]], 'left': {'level': 2, 'groups': [[[1], [2], [3], [4]], [[5], [6], [7], [8]]], 'left': {'level': 3, 'groups': [[[1], [2]], [[3], [4]]]}, 'rigth': {'level': 3, 'groups': [[[5], [6]], [[7], [8]]]}}, 'rigth': {'level': 2, 'groups': [[[9], [10], [11], [12]], [[13], [14], [15], [16]]], 'left': {'level': 3, 'groups': [[[9], [10]], [[11], [12]]]}, 'rigth': {'level': 3, 'groups': [[[13], [14]], [[15], [16]]]}}}, 'rigth': {'level': 1, 'groups': [[[17], [18], [19], [20], [21], [22], [23], [24]], [[25], [26], [27], [28], [29], [30], [31], [32]]], 'left': {'level': 2, 'groups': [[[17], [18], [19], [20]], [[21], [22], [23], [24]]], 'left': {'level': 3, 'groups': [[[17], [18]], [[19], [20]]]}, 'rigth': {'level': 3, 'groups': [[[21], [22]], [[23], [24]]]}}, 'rigth': {'level': 2, 'groups': [[[25], [26], [27], [28]], [[29], [30], [31], [32]]], 'left': {'level': 3, 'groups': [[[25], [26]], [[27], [28]]]}, 'rigth': {'level': 3, 'groups': [[[29], [30]], [[31], [32]]]}}}} \n",
            "\n",
            "level: 0 ---left: [[1], [2], [3], [4], [5], [6], [7], [8], [9], [10], [11], [12], [13], [14], [15], [16]] *****rigth: [[17], [18], [19], [20], [21], [22], [23], [24], [25], [26], [27], [28], [29], [30], [31], [32]]\n",
            "level: 1 ---left: [[[1], [2], [3], [4], [5], [6], [7], [8]], [[9], [10], [11], [12], [13], [14], [15], [16]]] level: 1 ***** rigth: [[[17], [18], [19], [20], [21], [22], [23], [24]], [[25], [26], [27], [28], [29], [30], [31], [32]]]\n",
            "level: 2 ---left: [[[1], [2], [3], [4]], [[5], [6], [7], [8]]] level: 2 ***** rigth: [[[9], [10], [11], [12]], [[13], [14], [15], [16]]]\n",
            "level: 3 ---left: [[[1], [2]], [[3], [4]]] level: 3 ***** rigth: [[[5], [6]], [[7], [8]]]\n",
            "level: 3 ---left: [[[9], [10]], [[11], [12]]] level: 3 ***** rigth: [[[13], [14]], [[15], [16]]]\n",
            "level: 2 ---left: [[[17], [18], [19], [20]], [[21], [22], [23], [24]]] level: 2 ***** rigth: [[[25], [26], [27], [28]], [[29], [30], [31], [32]]]\n",
            "level: 3 ---left: [[[17], [18]], [[19], [20]]] level: 3 ***** rigth: [[[21], [22]], [[23], [24]]]\n",
            "level: 3 ---left: [[[25], [26]], [[27], [28]]] level: 3 ***** rigth: [[[29], [30]], [[31], [32]]]\n"
          ],
          "name": "stdout"
        }
      ]
    },
    {
      "cell_type": "markdown",
      "metadata": {
        "id": "XHGrnGLpBPR1",
        "colab_type": "text"
      },
      "source": [
        ""
      ]
    }
  ]
}