{
  "nbformat": 4,
  "nbformat_minor": 0,
  "metadata": {
    "colab": {
      "name": "Untitled16.ipynb",
      "provenance": [],
      "authorship_tag": "ABX9TyPInFXlOlNftwYxxRixgs7D",
      "include_colab_link": true
    },
    "kernelspec": {
      "name": "python3",
      "display_name": "Python 3"
    }
  },
  "cells": [
    {
      "cell_type": "markdown",
      "metadata": {
        "id": "view-in-github",
        "colab_type": "text"
      },
      "source": [
        "<a href=\"https://colab.research.google.com/github/stefanoridolfi/ML_From_scratch/blob/master/test_ricorsivo_split_random.ipynb\" target=\"_parent\"><img src=\"https://colab.research.google.com/assets/colab-badge.svg\" alt=\"Open In Colab\"/></a>"
      ]
    },
    {
      "cell_type": "code",
      "metadata": {
        "colab_type": "code",
        "outputId": "9187f946-e624-4093-aa3d-f4fcc0380807",
        "id": "Pe5Y98GtKM_Q",
        "colab": {
          "base_uri": "https://localhost:8080/",
          "height": 530
        }
      },
      "source": [
        "from random import seed\n",
        "from random import randrange\n",
        "seed(1)\n",
        "def princip(node):\n",
        "  left, right =node['groups']\n",
        "  if len(left)<=2:\n",
        "    return\n",
        "  else:\n",
        "    node['left']=get_split(left)\n",
        "    node['right']=get_split(rigth)\n",
        "\n",
        "def split_in2(dataset,level):\n",
        "  split=0.7\n",
        "  left=[]\n",
        "  train_size=int(split*len(dataset))\n",
        "  rigth=list(dataset)\n",
        "  i=0\n",
        "  while len(left)  <train_size:\n",
        "    index=i\n",
        "    elem=rigth.pop(index)\n",
        "    left.append(elem)\n",
        "  b_groups=[left, rigth]\n",
        "  i+=1\n",
        "  return {'level':level,'groups':b_groups}\n",
        "\n",
        "def get_split(node):\n",
        "  left, rigth = node['groups']\n",
        "  if len(left)>0:\n",
        "    if len(left)>2:\n",
        "      level=node['level']\n",
        "      node['left']=split_in2(left,level+1)\n",
        "      get_split(node['left'])\n",
        "  if len(left)>0:\n",
        "     if len(left)>2:\n",
        "       node['rigth']=split_in2(rigth,level+1)\n",
        "       get_split(node['rigth'])\n",
        "  else:\n",
        "    return \n",
        "\n",
        "def build_tree(node):\n",
        "    root=split_in2(dataset,0)\n",
        "    get_split(root)\n",
        "    return root\n",
        "dataset=[]\n",
        "for i in range(1,17):\n",
        "  dataset.append([i])\n",
        "\n",
        "print(\"dataset\",dataset)\n",
        "\n",
        "\n",
        "def print_tree(node,listone):\n",
        "  if node['level']==0:\n",
        "    print(\"\\nlevel:\",int(\"0\"),\"\\nleft:\",node['groups'][0],\"\\nrigth:\",node['groups'][1])\n",
        "    listone.append([node['level'],node['groups'][0],node['groups'][1]])\n",
        "  if 'left' in node.keys():\n",
        "    #lev+=1\n",
        "    l=node['left']\n",
        "    r=node['rigth']\n",
        "    lev_l=l['level']\n",
        "    lev_r=r['level']\n",
        "    print(\"\\nlevel:\",lev_l,\"\\nleft:\",l['groups'],\"\\nrigth:\",r['groups'])\n",
        "    listone.append([lev_l,l['groups'],r['groups']])\n",
        "    #print(l)\n",
        "    print_tree(l,listone)\n",
        "    print_tree(r,listone)\n",
        "  return listone\n",
        "  \n",
        "#node=split_in2(dataset,0)\n",
        "#print(\"\\nnode=\",node)\n",
        "tree=build_tree(node)\n",
        "print(\"tree\",tree,\"\\n\")\n",
        "listone=print_tree(tree,[])\n",
        "def max_in_listone(listone):\n",
        "  max=0\n",
        "  for row in listone:\n",
        "    if row[0]>max:\n",
        "      max=row[0]\n",
        "  return max\n",
        "max=max_in_listone(listone)\n",
        "print(\"max=\",max)\n",
        "\n",
        "for i in range(max_in_listone(listone)+1):\n",
        "  for row in listone:\n",
        "    if row[0]==i:\n",
        "      print(\"livello:\",row[0],\"elem/grup left:\",len(row[1][0]),len(row[1][1]),\"left:\",row[1],\"elem/grup right:\",len(row[2][0]),len(row[2][1]),\"rigth:\",row[2])\n"
      ],
      "execution_count": 184,
      "outputs": [
        {
          "output_type": "stream",
          "text": [
            "dataset [[1], [2], [3], [4], [5], [6], [7], [8], [9], [10], [11], [12], [13], [14], [15], [16]]\n",
            "tree {'level': 0, 'groups': [[[1], [2], [3], [4], [5], [6], [7], [8], [9], [10], [11]], [[12], [13], [14], [15], [16]]], 'left': {'level': 1, 'groups': [[[1], [2], [3], [4], [5], [6], [7]], [[8], [9], [10], [11]]], 'left': {'level': 2, 'groups': [[[1], [2], [3], [4]], [[5], [6], [7]]], 'left': {'level': 3, 'groups': [[[1], [2]], [[3], [4]]]}, 'rigth': {'level': 3, 'groups': [[[5], [6]], [[7]]]}}, 'rigth': {'level': 2, 'groups': [[[8], [9]], [[10], [11]]]}}, 'rigth': {'level': 1, 'groups': [[[12], [13], [14]], [[15], [16]]], 'left': {'level': 2, 'groups': [[[12], [13]], [[14]]]}, 'rigth': {'level': 2, 'groups': [[[15]], [[16]]]}}} \n",
            "\n",
            "\n",
            "level: 0 \n",
            "left: [[1], [2], [3], [4], [5], [6], [7], [8], [9], [10], [11]] \n",
            "rigth: [[12], [13], [14], [15], [16]]\n",
            "\n",
            "level: 1 \n",
            "left: [[[1], [2], [3], [4], [5], [6], [7]], [[8], [9], [10], [11]]] \n",
            "rigth: [[[12], [13], [14]], [[15], [16]]]\n",
            "\n",
            "level: 2 \n",
            "left: [[[1], [2], [3], [4]], [[5], [6], [7]]] \n",
            "rigth: [[[8], [9]], [[10], [11]]]\n",
            "\n",
            "level: 3 \n",
            "left: [[[1], [2]], [[3], [4]]] \n",
            "rigth: [[[5], [6]], [[7]]]\n",
            "\n",
            "level: 2 \n",
            "left: [[[12], [13]], [[14]]] \n",
            "rigth: [[[15]], [[16]]]\n",
            "max= 3\n",
            "livello: 0 elem/grup left: 1 1 left: [[1], [2], [3], [4], [5], [6], [7], [8], [9], [10], [11]] elem/grup right: 1 1 rigth: [[12], [13], [14], [15], [16]]\n",
            "livello: 1 elem/grup left: 7 4 left: [[[1], [2], [3], [4], [5], [6], [7]], [[8], [9], [10], [11]]] elem/grup right: 3 2 rigth: [[[12], [13], [14]], [[15], [16]]]\n",
            "livello: 2 elem/grup left: 4 3 left: [[[1], [2], [3], [4]], [[5], [6], [7]]] elem/grup right: 2 2 rigth: [[[8], [9]], [[10], [11]]]\n",
            "livello: 2 elem/grup left: 2 1 left: [[[12], [13]], [[14]]] elem/grup right: 1 1 rigth: [[[15]], [[16]]]\n",
            "livello: 3 elem/grup left: 2 2 left: [[[1], [2]], [[3], [4]]] elem/grup right: 2 1 rigth: [[[5], [6]], [[7]]]\n"
          ],
          "name": "stdout"
        }
      ]
    },
    {
      "cell_type": "markdown",
      "metadata": {
        "id": "XHGrnGLpBPR1",
        "colab_type": "text"
      },
      "source": [
        ""
      ]
    }
  ]
}