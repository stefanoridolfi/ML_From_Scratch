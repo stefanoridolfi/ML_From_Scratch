{
  "nbformat": 4,
  "nbformat_minor": 0,
  "metadata": {
    "colab": {
      "name": "Untitled",
      "provenance": [],
      "include_colab_link": true
    },
    "kernelspec": {
      "name": "python3",
      "display_name": "Python 3"
    }
  },
  "cells": [
    {
      "cell_type": "markdown",
      "metadata": {
        "id": "view-in-github",
        "colab_type": "text"
      },
      "source": [
        "<a href=\"https://colab.research.google.com/github/stefanoridolfi/ML_From_scratch/blob/master/ch_1_1.ipynb\" target=\"_parent\"><img src=\"https://colab.research.google.com/assets/colab-badge.svg\" alt=\"Open In Colab\"/></a>"
      ]
    },
    {
      "cell_type": "code",
      "metadata": {
        "id": "oa3v0S-Sh9zh",
        "colab_type": "code",
        "colab": {}
      },
      "source": [
        "import pandas as pd\n",
        "\n",
        "def load_csv(filename_url):\n",
        "  CSV_url_iris=filename_url\n",
        "  pdfile=pd.read_csv(CSV_url_iris,header=None)\n",
        "  dataset=pdfile.values.tolist()\n",
        "  return dataset\n",
        "\n",
        "# URL contenente dataset CSV Pima Indians dataset\n",
        "#CSV_url='https://goo.gl/2tMFne'\n",
        "# URL contenente dataset Iris Flowers\n",
        "CSV_url='https://goo.gl/uqoqh7'\n",
        "\n",
        "Pima=load_csv(CSV_url)\n",
        "print('Loaded data file {0} with {1} rows and {2} columns'.format(CSV_url, len(Pima),len(Pima[0])))\n",
        "print(\"Pina[0]\",Pina[0])\n",
        "print(\"Lista valori file CSV\",list(Pina))\n",
        "# Convert string column to float\n",
        "def string_2_fl(dataset, column):\n",
        "  for row in dataset:\n",
        "    row[column] = float((row[column]))\n",
        "#print(dataset[0])\n",
        "for i in range(len(dataset[0])):\n",
        "  string_2_fl(dataset, i)\n",
        "print(\"dataset[0]\",dataset[0])\n",
        "\n",
        "# Convert string column to integer\n",
        "def string_2_int(dataset, column):\n",
        "  for row in dataset:\n",
        "    row[column] = int((row[column]))\n",
        "#print(dataset[0])\n",
        "for i in range(len(dataset[0])):\n",
        "  string_2_int(dataset, i)\n",
        "#print(dataset[0])\n",
        "print(dataset)\n",
        "class_values = [row[1] for row in dataset] # lista di tutti i valori della colonna 1, ovvero i valori del secondo elemento di tutte le liste della lista\n",
        "print(class_values)\n",
        "unique = set(class_values) # lista ordinata dei valori presenti in class_value, eliminando le duplicazioni\n",
        "print(\"unique=\", unique)\n",
        "len(unique)\n",
        "test=enumerate(unique)\n",
        "lookup = dict()\n",
        "for i, value in enumerate(unique):\n",
        "  #print(\"i=\",i,\"value=\",value)\n",
        "  lookup[value] = i\n",
        "#print(\"Dict=------------------\")\n",
        "#print(lookup)\n"
      ],
      "execution_count": 0,
      "outputs": []
    }
  ]
}