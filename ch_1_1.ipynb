{
  "nbformat": 4,
  "nbformat_minor": 0,
  "metadata": {
    "colab": {
      "name": "Untitled",
      "provenance": [],
      "include_colab_link": true
    },
    "kernelspec": {
      "name": "python3",
      "display_name": "Python 3"
    }
  },
  "cells": [
    {
      "cell_type": "markdown",
      "metadata": {
        "id": "view-in-github",
        "colab_type": "text"
      },
      "source": [
        "<a href=\"https://colab.research.google.com/github/stefanoridolfi/ML_From_scratch/blob/master/ch_1_1.ipynb\" target=\"_parent\"><img src=\"https://colab.research.google.com/assets/colab-badge.svg\" alt=\"Open In Colab\"/></a>"
      ]
    },
    {
      "cell_type": "code",
      "metadata": {
        "id": "oa3v0S-Sh9zh",
        "colab_type": "code",
        "colab": {
          "base_uri": "https://localhost:8080/",
          "height": 139
        },
        "outputId": "f3096673-c7ba-4138-ba95-b709685f3ec7"
      },
      "source": [
        "import pandas as pd\n",
        "\n",
        "def load_csv(filename_url):\n",
        "  CSV_url_iris=filename_url\n",
        "  pdfile=pd.read_csv(CSV_url_iris,header=None)\n",
        "  dataset=pdfile.values.tolist()\n",
        "  return dataset\n",
        "\n",
        "# URL contenente dataset CSV Pima Indians dataset\n",
        "#CSV_url='https://goo.gl/2tMFne'\n",
        "# URL contenente dataset Iris Flowers\n",
        "#CSV_url='https://goo.gl/uqoqh7'\n",
        "# URL contenente dataset CSV Pima Indians dataset parziale\n",
        "CSV_url='https://raw.githubusercontent.com/stefanoridolfi/ML_From_scratch/master/pima-indians-diabetes.data_partial.csv'\n",
        "\n",
        "dataset=load_csv(CSV_url)\n",
        "print('Loaded data file {0} with {1} rows and {2} columns'.format(CSV_url, len(dataset),len(dataset[0])))\n",
        "print(\"dataset[0]\",dataset[0])\n",
        "print(\"Lista valori file CSV e dataset\",list(dataset))\n",
        "# Convert string column to float\n",
        "def string_2_fl(dataset, column):\n",
        "  for row in dataset:\n",
        "    row[column] = float((row[column]))\n",
        "\n",
        "for i in range(len(dataset[0])):\n",
        "  string_2_fl(dataset, i)\n",
        "print(\"dataset[0]=\",dataset[0])\n",
        "\n",
        "# Convert string column to integer\n",
        "def string_2_int(dataset, column):\n",
        "  for row in dataset:\n",
        "    row[column] = int((row[column]))\n",
        "#print(dataset[0])\n",
        "for i in range(len(dataset[0])):\n",
        "  string_2_int(dataset, i)\n",
        "#print(dataset[0])\n",
        "class_values = [row[1] for row in dataset] # lista di tutti i valori della colonna 1, ovvero i valori del secondo elemento di tutte le liste della lista\n",
        "print(\"lista di tutti i valori della colonna 1 (la seconda) di dataset\",class_values)\n",
        "unique = set(class_values) # lista ordinata dei valori presenti in class_value, eliminando le duplicazioni\n",
        "print(\"unique, lista ordinata dei valori presenti in nella colonna 1 di tutti i record, eliminando le duplicazioni\", unique)\n"
      ],
      "execution_count": 7,
      "outputs": [
        {
          "output_type": "stream",
          "text": [
            "Loaded data file https://raw.githubusercontent.com/stefanoridolfi/ML_From_scratch/master/pima-indians-diabetes.data_partial.csv with 34 rows and 9 columns\n",
            "dataset[0] [6.0, 148.0, 72.0, 35.0, 0.0, 33.6, 0.627, 50.0, 1.0]\n",
            "Lista valori file CSV e dataset [[6.0, 148.0, 72.0, 35.0, 0.0, 33.6, 0.627, 50.0, 1.0], [1.0, 85.0, 66.0, 29.0, 0.0, 26.6, 0.35100000000000003, 31.0, 0.0], [8.0, 183.0, 64.0, 0.0, 0.0, 23.3, 0.672, 32.0, 1.0], [1.0, 89.0, 66.0, 23.0, 94.0, 28.1, 0.16699999999999998, 21.0, 0.0], [0.0, 137.0, 40.0, 35.0, 168.0, 43.1, 2.2880000000000003, 33.0, 1.0], [5.0, 116.0, 74.0, 0.0, 0.0, 25.6, 0.201, 30.0, 0.0], [3.0, 78.0, 50.0, 32.0, 88.0, 31.0, 0.248, 26.0, 1.0], [10.0, 115.0, 0.0, 0.0, 0.0, 35.3, 0.134, 29.0, 0.0], [2.0, 197.0, 70.0, 45.0, 543.0, 30.5, 0.158, 53.0, 1.0], [8.0, 125.0, 96.0, 0.0, 0.0, 0.0, 0.23199999999999998, 54.0, 1.0], [4.0, 110.0, 92.0, 0.0, 0.0, 37.6, 0.191, 30.0, 0.0], [10.0, 168.0, 74.0, 0.0, 0.0, 38.0, 0.537, 34.0, 1.0], [10.0, 139.0, 80.0, 0.0, 0.0, 27.1, 1.4409999999999998, 57.0, 0.0], [1.0, 189.0, 60.0, 23.0, 846.0, 30.1, 0.39799999999999996, 59.0, 1.0], [5.0, 166.0, 72.0, 19.0, 175.0, 25.8, 0.5870000000000001, 51.0, 1.0], [7.0, 100.0, 0.0, 0.0, 0.0, 30.0, 0.484, 32.0, 1.0], [0.0, 118.0, 84.0, 47.0, 230.0, 45.8, 0.551, 31.0, 1.0], [7.0, 107.0, 74.0, 0.0, 0.0, 29.6, 0.254, 31.0, 1.0], [1.0, 103.0, 30.0, 38.0, 83.0, 43.3, 0.183, 33.0, 0.0], [1.0, 115.0, 70.0, 30.0, 96.0, 34.6, 0.529, 32.0, 1.0], [3.0, 126.0, 88.0, 41.0, 235.0, 39.3, 0.7040000000000001, 27.0, 0.0], [8.0, 99.0, 84.0, 0.0, 0.0, 35.4, 0.38799999999999996, 50.0, 0.0], [7.0, 196.0, 90.0, 0.0, 0.0, 39.8, 0.451, 41.0, 1.0], [9.0, 119.0, 80.0, 35.0, 0.0, 29.0, 0.263, 29.0, 1.0], [11.0, 143.0, 94.0, 33.0, 146.0, 36.6, 0.254, 51.0, 1.0], [10.0, 125.0, 70.0, 26.0, 115.0, 31.1, 0.205, 41.0, 1.0], [7.0, 147.0, 76.0, 0.0, 0.0, 39.4, 0.257, 43.0, 1.0], [1.0, 97.0, 66.0, 15.0, 140.0, 23.2, 0.48700000000000004, 22.0, 0.0], [13.0, 145.0, 82.0, 19.0, 110.0, 22.2, 0.245, 57.0, 0.0], [5.0, 117.0, 92.0, 0.0, 0.0, 34.1, 0.337, 38.0, 0.0], [5.0, 109.0, 75.0, 26.0, 0.0, 36.0, 0.546, 60.0, 0.0], [3.0, 158.0, 76.0, 36.0, 245.0, 31.6, 0.851, 28.0, 1.0], [3.0, 88.0, 58.0, 11.0, 54.0, 24.8, 0.267, 22.0, 0.0], [6.0, 92.0, 92.0, 0.0, 0.0, 19.9, 0.188, 28.0, 0.0]]\n",
            "dataset[0]= [6.0, 148.0, 72.0, 35.0, 0.0, 33.6, 0.627, 50.0, 1.0]\n",
            "lista di tutti i valori della colonna 1 (la seconda) di dataset [148, 85, 183, 89, 137, 116, 78, 115, 197, 125, 110, 168, 139, 189, 166, 100, 118, 107, 103, 115, 126, 99, 196, 119, 143, 125, 147, 97, 145, 117, 109, 158, 88, 92]\n",
            "unique, lista ordinata dei valori presenti in nella colonna 1 di tutti i record, eliminando le duplicazioni {137, 139, 143, 145, 147, 148, 158, 166, 168, 183, 189, 196, 197, 78, 85, 88, 89, 92, 97, 99, 100, 103, 107, 109, 110, 115, 116, 117, 118, 119, 125, 126}\n"
          ],
          "name": "stdout"
        }
      ]
    }
  ]
}