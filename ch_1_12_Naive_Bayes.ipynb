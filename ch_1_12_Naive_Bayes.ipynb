{
  "nbformat": 4,
  "nbformat_minor": 0,
  "metadata": {
    "colab": {
      "name": "Untitled19.ipynb",
      "provenance": [],
      "authorship_tag": "ABX9TyOYakQXKwaHeLirXiI5NhLH",
      "include_colab_link": true
    },
    "kernelspec": {
      "name": "python3",
      "display_name": "Python 3"
    }
  },
  "cells": [
    {
      "cell_type": "markdown",
      "metadata": {
        "id": "view-in-github",
        "colab_type": "text"
      },
      "source": [
        "<a href=\"https://colab.research.google.com/github/stefanoridolfi/ML_From_scratch/blob/master/ch_1_12_Naive_Bayes.ipynb\" target=\"_parent\"><img src=\"https://colab.research.google.com/assets/colab-badge.svg\" alt=\"Open In Colab\"/></a>"
      ]
    },
    {
      "cell_type": "code",
      "metadata": {
        "id": "BBpP1YR3IEEe",
        "colab_type": "code",
        "colab": {
          "base_uri": "https://localhost:8080/",
          "height": 87
        },
        "outputId": "34108369-33c5-4230-9882-82ee26b7d129"
      },
      "source": [
        "# FROM ch_1_1.ipynb##########################\n",
        "##############################################\n",
        "import pandas as pd\n",
        "from random import seed\n",
        "from random import randrange\n",
        "from csv import reader\n",
        "from math import sqrt,exp\n",
        "\n",
        "''' if no headers in csv\n",
        "def load_csv(filename_url):\n",
        "  CSV_url=filename_url\n",
        "  pdfile=pd.read_csv(CSV_url,header=None)\n",
        "  dataset=pdfile.values.tolist()\n",
        "  return dataset\n",
        "  '''\n",
        "'''if header in csv\n",
        "#CVS with headers ##################\n",
        "def load_csv(filename_url):\n",
        "  CSV_url=filename_url\n",
        "  pdfile=pd.read_csv(CSV_url,sep=';',nrows=48)\n",
        "  #pdfile=pd.read_csv(CSV_url,sep=';')\n",
        "  headers=pdfile.head()\n",
        "  dataset=pdfile.values.tolist()\n",
        "  return dataset, list(headers)\n",
        "  '''\n",
        "def load_csv(filename_url):\n",
        "  CSV_url=filename_url\n",
        "  #pdfile=pd.read_csv(CSV_url,header=None,skiprows=749, nrows=30)\n",
        "  pdfile=pd.read_csv(CSV_url,header=None)\n",
        "  dataset=pdfile.values.tolist()\n",
        "  return dataset\n",
        "\n",
        "\n",
        "# Split the dataset by class values, returns a dictionary\n",
        "def separate_by_class(dataset):\n",
        "  separated=dict()\n",
        "  for row in dataset:\n",
        "    classe=row[-1]\n",
        "    if classe not in separated:\n",
        "      separated[classe]=list()\n",
        "    separated[classe].append(row)\n",
        "  return separated  \n",
        "\n",
        "from math import sqrt\n",
        "def mean(numeri):\n",
        "  return sum(numeri)/float(len(numeri))\n",
        "\n",
        "def stdev(numeri):\n",
        "  avg=mean(numeri)\n",
        "  varianza=sum([(num-avg)**2 for num in numeri])/float(len(numeri)-1)\n",
        "  return sqrt(varianza)\n",
        "\n",
        "def summarize_dataset(dataset):\n",
        "  zippato=list(zip(*dataset))\n",
        "  summaries=[]\n",
        "  for elem in zippato:\n",
        "    print(\"elem=\",elem)\n",
        "    summaries.append([mean(elem),stdev(elem),len(elem)])\n",
        "  del summaries[-1]\n",
        "  return summaries\n",
        "\n",
        "##################\n",
        "\n",
        "# Dataset are in https://github.com/jbrownlee/Datasets\n",
        "\n",
        "#dataset Banknote\n",
        "#CSV_url='https://raw.githubusercontent.com/jbrownlee/Datasets/master/iris.csv'\n",
        "\n",
        "#dataset= load_csv(CSV_url)\n",
        "# dataset for functions test\n",
        "dataset = [[3.393533211,2.331273381,0],\n",
        "[3.110073483,1.781539638,0],\n",
        "[1.343808831,3.368360954,0],\n",
        "[3.582294042,4.67917911,0],\n",
        "[2.280362439,2.866990263,0],\n",
        "[7.423436942,4.696522875,1],\n",
        "[5.745051997,3.533989803,1],\n",
        "[9.172168622,2.511101045,1],\n",
        "[7.792783481,3.424088941,1],\n",
        "[7.939820817,0.791637231,1]]\n",
        "#print('Loaded data file {0} with {1} rows and {2} columns\\n\\n'.format(CSV_url, len(dataset),len(dataset[0])))\n",
        "#print(\"classi\",separate_by_class(dataset))\n",
        "separated=separate_by_class(dataset)\n",
        "summaries=summarize_dataset(dataset)\n",
        "print(summaries)"
      ],
      "execution_count": 27,
      "outputs": [
        {
          "output_type": "stream",
          "text": [
            "elem= (3.393533211, 3.110073483, 1.343808831, 3.582294042, 2.280362439, 7.423436942, 5.745051997, 9.172168622, 7.792783481, 7.939820817)\n",
            "elem= (2.331273381, 1.781539638, 3.368360954, 4.67917911, 2.866990263, 4.696522875, 3.533989803, 2.511101045, 3.424088941, 0.791637231)\n",
            "elem= (0, 0, 0, 0, 0, 1, 1, 1, 1, 1)\n",
            "[[5.178333386499999, 2.7665845055177263, 10], [2.9984683241, 1.218556343617447, 10]]\n"
          ],
          "name": "stdout"
        }
      ]
    }
  ]
}