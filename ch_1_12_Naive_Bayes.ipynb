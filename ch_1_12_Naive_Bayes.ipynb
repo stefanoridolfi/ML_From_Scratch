{
  "nbformat": 4,
  "nbformat_minor": 0,
  "metadata": {
    "colab": {
      "name": "Untitled19.ipynb",
      "provenance": [],
      "authorship_tag": "ABX9TyP3eNJjRQA3PrbihxMVCWAM",
      "include_colab_link": true
    },
    "kernelspec": {
      "name": "python3",
      "display_name": "Python 3"
    }
  },
  "cells": [
    {
      "cell_type": "markdown",
      "metadata": {
        "id": "view-in-github",
        "colab_type": "text"
      },
      "source": [
        "<a href=\"https://colab.research.google.com/github/stefanoridolfi/ML_From_scratch/blob/master/ch_1_12_Naive_Bayes.ipynb\" target=\"_parent\"><img src=\"https://colab.research.google.com/assets/colab-badge.svg\" alt=\"Open In Colab\"/></a>"
      ]
    },
    {
      "cell_type": "code",
      "metadata": {
        "id": "BBpP1YR3IEEe",
        "colab_type": "code",
        "colab": {}
      },
      "source": [
        "# FROM ch_1_1.ipynb##########################\n",
        "##############################################\n",
        "import pandas as pd\n",
        "from random import seed\n",
        "from random import randrange\n",
        "from csv import reader\n",
        "from math import sqrt,exp\n",
        "\n",
        "''' if no headers in csv\n",
        "def load_csv(filename_url):\n",
        "  CSV_url=filename_url\n",
        "  pdfile=pd.read_csv(CSV_url,header=None)\n",
        "  dataset=pdfile.values.tolist()\n",
        "  return dataset\n",
        "  '''\n",
        "'''if header in csv\n",
        "#CVS with headers ##################\n",
        "def load_csv(filename_url):\n",
        "  CSV_url=filename_url\n",
        "  pdfile=pd.read_csv(CSV_url,sep=';',nrows=48)\n",
        "  #pdfile=pd.read_csv(CSV_url,sep=';')\n",
        "  headers=pdfile.head()\n",
        "  dataset=pdfile.values.tolist()\n",
        "  return dataset, list(headers)\n",
        "  '''\n",
        "def load_csv(filename_url):\n",
        "  CSV_url=filename_url\n",
        "  #pdfile=pd.read_csv(CSV_url,header=None,skiprows=749, nrows=30)\n",
        "  pdfile=pd.read_csv(CSV_url,header=None)\n",
        "  dataset=pdfile.values.tolist()\n",
        "  return dataset\n",
        "\n",
        "# Split the dataset by class values, returns a dictionary\n",
        "def separate_by_class(dataset):\n",
        "  separated=dict()\n",
        "  for row in dataset:\n",
        "    classe=row[-1]\n",
        "    if classe not in separated:\n",
        "      separated[classe]=list()\n",
        "    separated[classe].append(row)\n",
        "  return separated  \n",
        "\n",
        "\n",
        "##################\n",
        "\n",
        "# Dataset are in https://github.com/jbrownlee/Datasets\n",
        "\n",
        "#dataset Banknote\n",
        "CSV_url='https://raw.githubusercontent.com/jbrownlee/Datasets/master/iris.csv'\n",
        "\n",
        "dataset= load_csv(CSV_url)\n",
        "print('Loaded data file {0} with {1} rows and {2} columns\\n\\n'.format(CSV_url, len(dataset),len(dataset[0])))\n",
        "print(\"classi\",separate_by_class(dataset))\n",
        "separated=separate_by_class(dataset)\n",
        "for label in separated:\n",
        "  print(label)\n",
        "  for row in separated[label]:\n",
        "    print(row)"
      ],
      "execution_count": 0,
      "outputs": []
    }
  ]
}