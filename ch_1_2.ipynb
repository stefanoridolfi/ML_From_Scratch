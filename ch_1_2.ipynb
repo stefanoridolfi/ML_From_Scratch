{
  "nbformat": 4,
  "nbformat_minor": 0,
  "metadata": {
    "colab": {
      "name": "Untitled",
      "provenance": [],
      "include_colab_link": true
    },
    "kernelspec": {
      "name": "python3",
      "display_name": "Python 3"
    }
  },
  "cells": [
    {
      "cell_type": "markdown",
      "metadata": {
        "id": "view-in-github",
        "colab_type": "text"
      },
      "source": [
        "<a href=\"https://colab.research.google.com/github/stefanoridolfi/ML_From_scratch/blob/master/ch_1_2.ipynb\" target=\"_parent\"><img src=\"https://colab.research.google.com/assets/colab-badge.svg\" alt=\"Open In Colab\"/></a>"
      ]
    },
    {
      "cell_type": "code",
      "metadata": {
        "id": "oa3v0S-Sh9zh",
        "colab_type": "code",
        "colab": {
          "base_uri": "https://localhost:8080/",
          "height": 87
        },
        "outputId": "f46cc001-cb13-43fe-8ec8-b7c434f8ae56"
      },
      "source": [
        "import pandas as pd\n",
        "from math import sqrt\n",
        "def load_csv(filename_url):\n",
        "  CSV_url_iris=filename_url\n",
        "  pdfile=pd.read_csv(CSV_url_iris,header=None)\n",
        "  dataset=pdfile.values.tolist()\n",
        "  dataset_list=list(dataset)\n",
        "  return dataset, dataset_list\n",
        "\n",
        "# Convert string column to float\n",
        "def string_2_fl(dataset, column):\n",
        "  for row in dataset:\n",
        "    row[column] = float((row[column]))\n",
        "\n",
        "#Find the min and max values for each column, return list of list of min and max \n",
        "def dataset_minmax(dataset):\n",
        "  minmax = list()\n",
        "  for i in range(len(dataset[0])):\n",
        "    col_values = [row[i] for row in dataset]\n",
        "    value_min = min(col_values)\n",
        "    value_max = max(col_values)\n",
        "    minmax.append([value_min, value_max])\n",
        "  return minmax\n",
        "\n",
        "# Rescale dataset columns to the range 0-1 and create new dataset\n",
        "def normalize_dataset(dataset, minmax):\n",
        "  dataset_new=list()\n",
        "  for row in dataset:\n",
        "    row_new=list()\n",
        "#    for i in range(len(row)-1):# ATTENZIONE il -1 va inserito se l'ultima colonna del dataset non è numerico ma una stringa come nel caso del dataset Iris Flowers: nel caso Pima NON va inserito\n",
        "    for i in range(len(row)):\n",
        "      row_new_elem = (row[i] - minmax[i][0]) / (minmax[i][1] - minmax[i][0])\n",
        "      row_new.append(row_new_elem)\n",
        "    dataset_new.append(row_new)\n",
        "  return dataset_new\n",
        "\n",
        "# function that calculate the mean of each column in the dataset\n",
        "def column_means(dataset):\n",
        "  means=[ 0 for i in range(len(dataset[0]))]\n",
        "  for i in range(len(dataset[0])):\n",
        "    col_values=[row[i] for row in dataset]\n",
        "    #print(\"col_values=\", col_values)\n",
        "    means[i]=sum(col_values)/float(len(dataset))\n",
        "  return means\n",
        "\n",
        "# function that calculate the standard deviation of each column in the dataset\n",
        "def column_stdevs(dataset, means):\n",
        "  stdevs=[0 for i in range(len(dataset[0]))]\n",
        "  for i in range(len(dataset[0])):\n",
        "    variance=[pow(row[i]-means[i],2) for row in dataset]\n",
        "    stdevs[i]=sqrt(sum(variance)/(len(dataset)-1))\n",
        "  return stdevs\n",
        "\n",
        "\n",
        "#function that calculate the normalized values of each column in the dataset\n",
        "def standardize_dataset(dataset,means,stdevs):\n",
        "  standardize_list_dataset=[]\n",
        "  for row in dataset:\n",
        "    standardize_list_dataset_row=[]\n",
        "    for i in range(len(row)):\n",
        "      standardize_list_dataset_row.append((row[i]-means[i])/stdevs[i])\n",
        "    standardize_list_dataset.append(standardize_list_dataset_row)\n",
        "  return standardize_list_dataset\n",
        "\n",
        "\n",
        "# URL contenente dataset CSV Pima Indians dataset\n",
        "CSV_url='https://goo.gl/2tMFne'\n",
        "# URL contenente dataset Iris Flowers\n",
        "#CSV_url='https://goo.gl/uqoqh7'\n",
        "\n",
        "\n",
        "#dataset_test=[[50,30],[20,90],[30,50]]\n",
        "Pima_list=load_csv(CSV_url)[0]\n",
        "#Pima_list=dataset_test\n",
        "\n",
        "minimax=dataset_minmax(Pima_list)\n",
        "Pima_list_normal=normalize_dataset(Pima_list, minimax)\n",
        "Pima_means=column_means(Pima_list)\n",
        "Pima_stdevs=column_stdevs(Pima_list,Pima_means)\n",
        "Pima_std=standardize_dataset(Pima_list,Pima_means,Pima_stdevs)\n",
        "print('Loaded data file {0} with {1} rows and {2} columns'.format(CSV_url, len(Pima),len(Pima[0])))\n",
        "#print(\"Lista valori file CSV\",Pima_list)\n",
        "#print(\"minmax di ogni colonna=\",minimax)\n",
        "#print(\"Pima normalizzato=\",Pima_list_normal)\n",
        "print(\"primo record Pima non normalizzato\", Pima_list[0])\n",
        "print(\"primo record Pima  normalizzato\", Pima_list_normal[0])\n",
        "#print(\"lista delle medie delle colonne del dataset, primo record\",Pima_means[0])\n",
        "#print(\"lista delle standard deviation delle colonne del dataset, primo record\",Pima_stdevs[0])\n",
        "print(\"Pima standardizzato, primo record\",Pima_std[0])\n",
        "# Convert string column to float\n",
        "\n",
        "\n",
        "################TEST################\n"
      ],
      "execution_count": 54,
      "outputs": [
        {
          "output_type": "stream",
          "text": [
            "Loaded data file https://goo.gl/2tMFne with 768 rows and 9 columns\n",
            "primo record Pima non normalizzato [6.0, 148.0, 72.0, 35.0, 0.0, 33.6, 0.627, 50.0, 1.0]\n",
            "primo record Pima  normalizzato [0.35294117647058826, 0.7437185929648241, 0.5901639344262295, 0.35353535353535354, 0.0, 0.5007451564828614, 0.23441502988898377, 0.48333333333333334, 1.0]\n",
            "Pima standardizzato, primo record [0.6395304921176576, 0.8477713205896718, 0.14954329852954296, 0.9066790623472505, -0.692439324724129, 0.2038799072674717, 0.468186870229798, 1.4250667195933604, 1.3650063669598067]\n"
          ],
          "name": "stdout"
        }
      ]
    }
  ]
}