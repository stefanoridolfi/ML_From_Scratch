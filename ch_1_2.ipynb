{
  "nbformat": 4,
  "nbformat_minor": 0,
  "metadata": {
    "colab": {
      "name": "Untitled",
      "provenance": [],
      "include_colab_link": true
    },
    "kernelspec": {
      "name": "python3",
      "display_name": "Python 3"
    }
  },
  "cells": [
    {
      "cell_type": "markdown",
      "metadata": {
        "id": "view-in-github",
        "colab_type": "text"
      },
      "source": [
        "<a href=\"https://colab.research.google.com/github/stefanoridolfi/ML_From_scratch/blob/master/ch_1_2.ipynb\" target=\"_parent\"><img src=\"https://colab.research.google.com/assets/colab-badge.svg\" alt=\"Open In Colab\"/></a>"
      ]
    },
    {
      "cell_type": "code",
      "metadata": {
        "id": "oa3v0S-Sh9zh",
        "colab_type": "code",
        "colab": {}
      },
      "source": [
        "import pandas as pd\n",
        "\n",
        "def load_csv(filename_url):\n",
        "  CSV_url_iris=filename_url\n",
        "  pdfile=pd.read_csv(CSV_url_iris,header=None)\n",
        "  dataset=pdfile.values.tolist()\n",
        "  dataset_list=list(dataset)\n",
        "  return dataset, dataset_list\n",
        "\n",
        "def string_2_fl(dataset, column):\n",
        "  for row in dataset:\n",
        "    row[column] = float((row[column]))\n",
        "\n",
        "\n",
        "#Find the min and max values for each column, return list of list of min and max \n",
        "def dataset_minmax(dataset):\n",
        "  minmax = list()\n",
        "  for i in range(len(dataset[0])):\n",
        "    col_values = [row[i] for row in dataset]\n",
        "    value_min = min(col_values)\n",
        "    value_max = max(col_values)\n",
        "    minmax.append([value_min, value_max])\n",
        "  return minmax\n",
        "\n",
        "# Rescale dataset columns to the range 0-1 and create new dataset\n",
        "def normalize_dataset(dataset, minmax):\n",
        "  dataset_new=list()\n",
        "  for row in dataset:\n",
        "    row_new=list()\n",
        "    for i in range(len(row)-1):\n",
        "      row_new_elem = (row[i] - minmax[i][0]) / (minmax[i][1] - minmax[i][0])\n",
        "      row_new.append(row_new_elem)\n",
        "    dataset_new.append(row_new)\n",
        "  return dataset_new\n",
        "\n",
        "# URL contenente dataset CSV Pima Indians dataset\n",
        "#CSV_url='https://goo.gl/2tMFne'\n",
        "# URL contenente dataset Iris Flowers\n",
        "CSV_url='https://goo.gl/uqoqh7'\n",
        "\n",
        "Pima=load_csv(CSV_url)[0]\n",
        "Pima_list=load_csv(CSV_url)[1]\n",
        "minimax=dataset_minmax(Pima_list)\n",
        "Pima_normal=normalize_dataset(Pima_list, minimax)\n",
        "print('Loaded data file {0} with {1} rows and {2} columns'.format(CSV_url, len(Pima),len(Pima[0])))\n",
        "print(\"Lista valori file CSV\",Pima_list)\n",
        "print(\"minmax=\",minimax)\n",
        "print(\"Pima normalizzato=)\",Pima_normal)\n",
        "for i in Pima_list:\n",
        "  print (i)\n",
        "\n",
        "# Convert string column to float\n"
      ],
      "execution_count": 0,
      "outputs": []
    }
  ]
}