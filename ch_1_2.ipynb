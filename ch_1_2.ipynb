{
  "nbformat": 4,
  "nbformat_minor": 0,
  "metadata": {
    "colab": {
      "name": "Untitled",
      "provenance": [],
      "include_colab_link": true
    },
    "kernelspec": {
      "name": "python3",
      "display_name": "Python 3"
    }
  },
  "cells": [
    {
      "cell_type": "markdown",
      "metadata": {
        "id": "view-in-github",
        "colab_type": "text"
      },
      "source": [
        "<a href=\"https://colab.research.google.com/github/stefanoridolfi/ML_From_scratch/blob/master/ch_1_2.ipynb\" target=\"_parent\"><img src=\"https://colab.research.google.com/assets/colab-badge.svg\" alt=\"Open In Colab\"/></a>"
      ]
    },
    {
      "cell_type": "code",
      "metadata": {
        "id": "oa3v0S-Sh9zh",
        "colab_type": "code",
        "colab": {
          "base_uri": "https://localhost:8080/",
          "height": 176
        },
        "outputId": "ad11bb4c-05bb-444b-b143-b41819e250ec"
      },
      "source": [
        "import pandas as pd\n",
        "\n",
        "def load_csv(filename_url):\n",
        "  CSV_url_iris=filename_url\n",
        "  pdfile=pd.read_csv(CSV_url_iris,header=None)\n",
        "  dataset=pdfile.values.tolist()\n",
        "  dataset_list=list(dataset)\n",
        "  return dataset, dataset_list\n",
        "\n",
        "# Convert string column to float\n",
        "def string_2_fl(dataset, column):\n",
        "  for row in dataset:\n",
        "    row[column] = float((row[column]))\n",
        "\n",
        "#Find the min and max values for each column, return list of list of min and max \n",
        "def dataset_minmax(dataset):\n",
        "  minmax = list()\n",
        "  for i in range(len(dataset[0])):\n",
        "    col_values = [row[i] for row in dataset]\n",
        "    value_min = min(col_values)\n",
        "    value_max = max(col_values)\n",
        "    minmax.append([value_min, value_max])\n",
        "  return minmax\n",
        "\n",
        "# Rescale dataset columns to the range 0-1 and create new dataset\n",
        "def normalize_dataset(dataset, minmax):\n",
        "  dataset_new=list()\n",
        "  for row in dataset:\n",
        "    row_new=list()\n",
        "#    for i in range(len(row)-1):# ATTENZIONE il -1 va inserito se l'ultima colonna del dataset non è numerico ma una stringa come nel caso del dataset Iris Flowers: nel caso Pima NON va inserito\n",
        "    for i in range(len(row)):\n",
        "      row_new_elem = (row[i] - minmax[i][0]) / (minmax[i][1] - minmax[i][0])\n",
        "      row_new.append(row_new_elem)\n",
        "    dataset_new.append(row_new)\n",
        "  return dataset_new\n",
        "\n",
        "# function that calculate the mean of each column in the dataset\n",
        "def column_means(dataset):\n",
        "  means=[ 0 for i in range(len(dataset[0]))]\n",
        "  for i in range(len(dataset[0])):\n",
        "    col_values=[row[i] for row in dataset]\n",
        "    print(\"col_values=\", col_values)\n",
        "    means[i]=sum(col_values)/float(len(dataset))\n",
        "  return means\n",
        "# URL contenente dataset CSV Pima Indians dataset\n",
        "CSV_url='https://goo.gl/2tMFne'\n",
        "# URL contenente dataset Iris Flowers\n",
        "#CSV_url='https://goo.gl/uqoqh7'\n",
        "\n",
        "\n",
        "dataset_test=[[50,30],[20,90],[30,50]]\n",
        "#Pima=load_csv(CSV_url)[0]\n",
        "Pima_list=dataset_test\n",
        "\n",
        "minimax=dataset_minmax(Pima_list)\n",
        "Pima_list_normal=normalize_dataset(Pima_list, minimax)\n",
        "Pima_means=column_means(Pima_list)\n",
        "print('Loaded data file {0} with {1} rows and {2} columns'.format(CSV_url, len(Pima),len(Pima[0])))\n",
        "print(\"Lista valori file CSV\",Pima_list)\n",
        "print(\"minmax di ogni colonna=\",minimax)\n",
        "print(\"Pima normalizzato=\",Pima_list_normal)\n",
        "print(\"primo record Pima non normalizzato\", Pima_list[0])\n",
        "print(\"primo record Pima  normalizzato\", Pima_list_normal[0])\n",
        "print(\"lista delle medie delle colonne del dataset\",Pima_means)\n",
        "# Convert string column to float\n",
        "\n",
        "\n",
        "################TEST################\n"
      ],
      "execution_count": 29,
      "outputs": [
        {
          "output_type": "stream",
          "text": [
            "col_values= [50, 20, 30]\n",
            "col_values= [30, 90, 50]\n",
            "Loaded data file https://goo.gl/2tMFne with 768 rows and 9 columns\n",
            "Lista valori file CSV [[50, 30], [20, 90], [30, 50]]\n",
            "minmax di ogni colonna= [[20, 50], [30, 90]]\n",
            "Pima normalizzato= [[1.0, 0.0], [0.0, 1.0], [0.3333333333333333, 0.3333333333333333]]\n",
            "primo record Pima non normalizzato [50, 30]\n",
            "primo record Pima  normalizzato [1.0, 0.0]\n",
            "lista delle medie delle colonne del dataset [33.333333333333336, 56.666666666666664]\n"
          ],
          "name": "stdout"
        }
      ]
    }
  ]
}