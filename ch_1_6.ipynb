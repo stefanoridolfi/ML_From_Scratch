{
  "nbformat": 4,
  "nbformat_minor": 0,
  "metadata": {
    "colab": {
      "name": "Untitled12.ipynb",
      "provenance": [],
      "authorship_tag": "ABX9TyMdI0pTh/mpfRl+B21vWGqH",
      "include_colab_link": true
    },
    "kernelspec": {
      "name": "python3",
      "display_name": "Python 3"
    }
  },
  "cells": [
    {
      "cell_type": "markdown",
      "metadata": {
        "id": "view-in-github",
        "colab_type": "text"
      },
      "source": [
        "<a href=\"https://colab.research.google.com/github/stefanoridolfi/ML_From_scratch/blob/master/ch_1_6.ipynb\" target=\"_parent\"><img src=\"https://colab.research.google.com/assets/colab-badge.svg\" alt=\"Open In Colab\"/></a>"
      ]
    },
    {
      "cell_type": "code",
      "metadata": {
        "id": "jKRR_KmFh4zQ",
        "colab_type": "code",
        "outputId": "b4a7b540-73aa-4ce3-e002-88452bd1d0ce",
        "colab": {
          "base_uri": "https://localhost:8080/",
          "height": 224
        }
      },
      "source": [
        "# FROM ch_1_1.ipynb##########################\n",
        "##############################################\n",
        "import pandas as pd\n",
        "from random import seed\n",
        "from random import randrange\n",
        "from csv import reader\n",
        "\n",
        "def load_csv(filename_url):\n",
        "  CSV_url=filename_url\n",
        "  pdfile=pd.read_csv(CSV_url,header=None)\n",
        "  dataset=pdfile.values.tolist()\n",
        "  return dataset\n",
        "##################\n",
        "\n",
        "# URL contenente dataset CSV Pima Indians dataset\n",
        "#CSV_url='https://goo.gl/2tMFne'\n",
        "# URL contenente dataset CSV Pima Indians dataset parziale\n",
        "\n",
        "CSV_url='https://raw.githubusercontent.com/stefanoridolfi/ML_From_scratch/master/pima-indians-diabetes.data_partial.csv'\n",
        "# URL contenente dataset Iris Flowers\n",
        "#CSV_url='https://goo.gl/uqoqh7'\n",
        "\n",
        "\n",
        "# Convert string column to float\n",
        "def str_column_to_float(dataset, column):\n",
        "  for row in dataset:\n",
        "    row[column] = float(row[column].strip())\n",
        "\n",
        "# Split a dataset into a train and test set\n",
        "def train_test_split(dataset, split):\n",
        "  train = list()\n",
        "  train_size = split * len(dataset)\n",
        "  dataset_copy = list(dataset)\n",
        "  while len(train) < train_size:\n",
        "    index = randrange(len(dataset_copy))\n",
        "    elem=dataset_copy[index]\n",
        "    dataset_copy.pop(index)\n",
        "    train.append(elem)\n",
        "  return train, dataset_copy\n",
        "\n",
        "# Calculate accuracy percentage\n",
        "def accuracy_metric(actual, predicted):\n",
        "  correct = 0\n",
        "  for i in range(len(actual)):\n",
        "    if actual[i] == predicted[i]:\n",
        "      correct += 1\n",
        "  return correct / float(len(actual)) * 100.0\n",
        "\n",
        "\n",
        "# Evaluate an algorithm using a train/test split\n",
        "def evaluate_algorithm(dataset, algorithm, split, *args):\n",
        "  train, test = train_test_split(dataset, split)\n",
        "  print(\"train:\",train)\n",
        "  print(\"test:\",test)\n",
        "  test_set = list()\n",
        "  for row in test:\n",
        "    row_copy = list(row)\n",
        "    row_copy[-1] = None\n",
        "    test_set.append(row_copy)\n",
        "  predicted = algorithm(train, test_set, *args)\n",
        "  actual = [row[-1] for row in test]\n",
        "  accuracy = accuracy_metric(actual, predicted)\n",
        "  return accuracy\n",
        "\n",
        "# zero rule algorithm for classification\n",
        "def zero_rule_algorithm_classification(train, test):\n",
        "  output_values = [row[-1] for row in train]\n",
        "  prediction = max(set(output_values), key=output_values.count)\n",
        "  predicted = [prediction for i in range(len(test))]\n",
        "  return predicted\n",
        "\n",
        "# Test the train/test harness\n",
        "seed(1)\n",
        "# load and prepare data\n",
        "dataset=load_csv(CSV_url)\n",
        "\n",
        "print('Loaded data file {0} with {1} rows and {2} columns\\n\\n'.format(CSV_url, len(dataset),len(dataset[0])))\n",
        "print(\"\\ndataset[0]\",dataset[0])\n",
        "print(\"\\nLista valori file CSV\",list(dataset))\n",
        "\n",
        "#for i in range(len(dataset[0])):\n",
        "#  str_column_to_float(dataset, i)\n",
        "# evaluate algorithm\n",
        "split = 0.6\n",
        "accuracy = evaluate_algorithm(dataset, zero_rule_algorithm_classification, split)\n",
        "print('\\nAccuracy: %.3f%%' % (accuracy))"
      ],
      "execution_count": 10,
      "outputs": [
        {
          "output_type": "stream",
          "text": [
            "Loaded data file https://raw.githubusercontent.com/stefanoridolfi/ML_From_scratch/master/pima-indians-diabetes.data_partial.csv with 34 rows and 9 columns\n",
            "\n",
            "\n",
            "\n",
            "dataset[0] [6.0, 148.0, 72.0, 35.0, 0.0, 33.6, 0.627, 50.0, 1.0]\n",
            "\n",
            "Lista valori file CSV [[6.0, 148.0, 72.0, 35.0, 0.0, 33.6, 0.627, 50.0, 1.0], [1.0, 85.0, 66.0, 29.0, 0.0, 26.6, 0.35100000000000003, 31.0, 0.0], [8.0, 183.0, 64.0, 0.0, 0.0, 23.3, 0.672, 32.0, 1.0], [1.0, 89.0, 66.0, 23.0, 94.0, 28.1, 0.16699999999999998, 21.0, 0.0], [0.0, 137.0, 40.0, 35.0, 168.0, 43.1, 2.2880000000000003, 33.0, 1.0], [5.0, 116.0, 74.0, 0.0, 0.0, 25.6, 0.201, 30.0, 0.0], [3.0, 78.0, 50.0, 32.0, 88.0, 31.0, 0.248, 26.0, 1.0], [10.0, 115.0, 0.0, 0.0, 0.0, 35.3, 0.134, 29.0, 0.0], [2.0, 197.0, 70.0, 45.0, 543.0, 30.5, 0.158, 53.0, 1.0], [8.0, 125.0, 96.0, 0.0, 0.0, 0.0, 0.23199999999999998, 54.0, 1.0], [4.0, 110.0, 92.0, 0.0, 0.0, 37.6, 0.191, 30.0, 0.0], [10.0, 168.0, 74.0, 0.0, 0.0, 38.0, 0.537, 34.0, 1.0], [10.0, 139.0, 80.0, 0.0, 0.0, 27.1, 1.4409999999999998, 57.0, 0.0], [1.0, 189.0, 60.0, 23.0, 846.0, 30.1, 0.39799999999999996, 59.0, 1.0], [5.0, 166.0, 72.0, 19.0, 175.0, 25.8, 0.5870000000000001, 51.0, 1.0], [7.0, 100.0, 0.0, 0.0, 0.0, 30.0, 0.484, 32.0, 1.0], [0.0, 118.0, 84.0, 47.0, 230.0, 45.8, 0.551, 31.0, 1.0], [7.0, 107.0, 74.0, 0.0, 0.0, 29.6, 0.254, 31.0, 1.0], [1.0, 103.0, 30.0, 38.0, 83.0, 43.3, 0.183, 33.0, 0.0], [1.0, 115.0, 70.0, 30.0, 96.0, 34.6, 0.529, 32.0, 1.0], [3.0, 126.0, 88.0, 41.0, 235.0, 39.3, 0.7040000000000001, 27.0, 0.0], [8.0, 99.0, 84.0, 0.0, 0.0, 35.4, 0.38799999999999996, 50.0, 0.0], [7.0, 196.0, 90.0, 0.0, 0.0, 39.8, 0.451, 41.0, 1.0], [9.0, 119.0, 80.0, 35.0, 0.0, 29.0, 0.263, 29.0, 1.0], [11.0, 143.0, 94.0, 33.0, 146.0, 36.6, 0.254, 51.0, 1.0], [10.0, 125.0, 70.0, 26.0, 115.0, 31.1, 0.205, 41.0, 1.0], [7.0, 147.0, 76.0, 0.0, 0.0, 39.4, 0.257, 43.0, 1.0], [1.0, 97.0, 66.0, 15.0, 140.0, 23.2, 0.48700000000000004, 22.0, 0.0], [13.0, 145.0, 82.0, 19.0, 110.0, 22.2, 0.245, 57.0, 0.0], [5.0, 117.0, 92.0, 0.0, 0.0, 34.1, 0.337, 38.0, 0.0], [5.0, 109.0, 75.0, 26.0, 0.0, 36.0, 0.546, 60.0, 0.0], [3.0, 158.0, 76.0, 36.0, 245.0, 31.6, 0.851, 28.0, 1.0], [3.0, 88.0, 58.0, 11.0, 54.0, 24.8, 0.267, 22.0, 0.0], [6.0, 92.0, 92.0, 0.0, 0.0, 19.9, 0.188, 28.0, 0.0]]\n",
            "train: [[2.0, 197.0, 70.0, 45.0, 543.0, 30.5, 0.158, 53.0, 1.0], [0.0, 137.0, 40.0, 35.0, 168.0, 43.1, 2.2880000000000003, 33.0, 1.0], [1.0, 103.0, 30.0, 38.0, 83.0, 43.3, 0.183, 33.0, 0.0], [1.0, 89.0, 66.0, 23.0, 94.0, 28.1, 0.16699999999999998, 21.0, 0.0], [1.0, 115.0, 70.0, 30.0, 96.0, 34.6, 0.529, 32.0, 1.0], [5.0, 117.0, 92.0, 0.0, 0.0, 34.1, 0.337, 38.0, 0.0], [7.0, 107.0, 74.0, 0.0, 0.0, 29.6, 0.254, 31.0, 1.0], [8.0, 99.0, 84.0, 0.0, 0.0, 35.4, 0.38799999999999996, 50.0, 0.0], [1.0, 97.0, 66.0, 15.0, 140.0, 23.2, 0.48700000000000004, 22.0, 0.0], [7.0, 100.0, 0.0, 0.0, 0.0, 30.0, 0.484, 32.0, 1.0], [8.0, 125.0, 96.0, 0.0, 0.0, 0.0, 0.23199999999999998, 54.0, 1.0], [5.0, 116.0, 74.0, 0.0, 0.0, 25.6, 0.201, 30.0, 0.0], [10.0, 125.0, 70.0, 26.0, 115.0, 31.1, 0.205, 41.0, 1.0], [6.0, 148.0, 72.0, 35.0, 0.0, 33.6, 0.627, 50.0, 1.0], [9.0, 119.0, 80.0, 35.0, 0.0, 29.0, 0.263, 29.0, 1.0], [7.0, 147.0, 76.0, 0.0, 0.0, 39.4, 0.257, 43.0, 1.0], [1.0, 85.0, 66.0, 29.0, 0.0, 26.6, 0.35100000000000003, 31.0, 0.0], [3.0, 158.0, 76.0, 36.0, 245.0, 31.6, 0.851, 28.0, 1.0], [0.0, 118.0, 84.0, 47.0, 230.0, 45.8, 0.551, 31.0, 1.0], [13.0, 145.0, 82.0, 19.0, 110.0, 22.2, 0.245, 57.0, 0.0], [3.0, 88.0, 58.0, 11.0, 54.0, 24.8, 0.267, 22.0, 0.0]]\n",
            "test: [[8.0, 183.0, 64.0, 0.0, 0.0, 23.3, 0.672, 32.0, 1.0], [3.0, 78.0, 50.0, 32.0, 88.0, 31.0, 0.248, 26.0, 1.0], [10.0, 115.0, 0.0, 0.0, 0.0, 35.3, 0.134, 29.0, 0.0], [4.0, 110.0, 92.0, 0.0, 0.0, 37.6, 0.191, 30.0, 0.0], [10.0, 168.0, 74.0, 0.0, 0.0, 38.0, 0.537, 34.0, 1.0], [10.0, 139.0, 80.0, 0.0, 0.0, 27.1, 1.4409999999999998, 57.0, 0.0], [1.0, 189.0, 60.0, 23.0, 846.0, 30.1, 0.39799999999999996, 59.0, 1.0], [5.0, 166.0, 72.0, 19.0, 175.0, 25.8, 0.5870000000000001, 51.0, 1.0], [3.0, 126.0, 88.0, 41.0, 235.0, 39.3, 0.7040000000000001, 27.0, 0.0], [7.0, 196.0, 90.0, 0.0, 0.0, 39.8, 0.451, 41.0, 1.0], [11.0, 143.0, 94.0, 33.0, 146.0, 36.6, 0.254, 51.0, 1.0], [5.0, 109.0, 75.0, 26.0, 0.0, 36.0, 0.546, 60.0, 0.0], [6.0, 92.0, 92.0, 0.0, 0.0, 19.9, 0.188, 28.0, 0.0]]\n",
            "\n",
            "Accuracy: 53.846%\n"
          ],
          "name": "stdout"
        }
      ]
    }
  ]
}