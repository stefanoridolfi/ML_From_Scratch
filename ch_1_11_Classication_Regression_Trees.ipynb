{
  "nbformat": 4,
  "nbformat_minor": 0,
  "metadata": {
    "colab": {
      "name": "Untitled14.ipynb",
      "provenance": [],
      "authorship_tag": "ABX9TyM69JK6TXSp0GEuKgoNNseX",
      "include_colab_link": true
    },
    "kernelspec": {
      "name": "python3",
      "display_name": "Python 3"
    }
  },
  "cells": [
    {
      "cell_type": "markdown",
      "metadata": {
        "id": "view-in-github",
        "colab_type": "text"
      },
      "source": [
        "<a href=\"https://colab.research.google.com/github/stefanoridolfi/ML_From_scratch/blob/master/ch_1_11_Classi%0Ccation_Regression_Trees.ipynb\" target=\"_parent\"><img src=\"https://colab.research.google.com/assets/colab-badge.svg\" alt=\"Open In Colab\"/></a>"
      ]
    },
    {
      "cell_type": "code",
      "metadata": {
        "id": "G_iP5BKkjwlj",
        "colab_type": "code",
        "outputId": "6448d075-f75e-4f23-b3fc-34014c9ef97f",
        "colab": {
          "base_uri": "https://localhost:8080/",
          "height": 158
        }
      },
      "source": [
        "# FROM ch_1_1.ipynb##########################\n",
        "##############################################\n",
        "import pandas as pd\n",
        "from random import seed\n",
        "from random import randrange\n",
        "from csv import reader\n",
        "from math import sqrt,exp\n",
        "\n",
        "''' if no headers in csv\n",
        "def load_csv(filename_url):\n",
        "  CSV_url=filename_url\n",
        "  pdfile=pd.read_csv(CSV_url,header=None)\n",
        "  dataset=pdfile.values.tolist()\n",
        "  return dataset\n",
        "  '''\n",
        "'''if header in csv\n",
        "#CVS with headers ##################\n",
        "def load_csv(filename_url):\n",
        "  CSV_url=filename_url\n",
        "  pdfile=pd.read_csv(CSV_url,sep=';',nrows=48)\n",
        "  #pdfile=pd.read_csv(CSV_url,sep=';')\n",
        "  headers=pdfile.head()\n",
        "  dataset=pdfile.values.tolist()\n",
        "  return dataset, list(headers)\n",
        "  '''\n",
        "def load_csv(filename_url):\n",
        "  CSV_url=filename_url\n",
        "  pdfile=pd.read_csv(CSV_url,header=None,nrows=10)\n",
        "  dataset=pdfile.values.tolist()\n",
        "  return dataset\n",
        "\n",
        "\n",
        "##################\n",
        "\n",
        "# Dataset are in https://github.com/jbrownlee/Datasets\n",
        "\n",
        "#dataset Banknote\n",
        "CSV_url='https://raw.githubusercontent.com/jbrownlee/Datasets/master/banknote_authentication.csv'\n",
        "\n",
        "dataset= load_csv(CSV_url)\n",
        "print('Loaded data file {0} with {1} rows and {2} columns\\n\\n'.format(CSV_url, len(dataset),len(dataset[0])))\n",
        "\n",
        "# Convert string column to float\n",
        "def str_column_to_float(dataset, column):\n",
        "  for row in dataset:\n",
        "    row[column] = float(row[column].strip())\n",
        "\n",
        "# Convert string to int (this is because we need class name that is number, like last column in this dataset)\n",
        "def str2int(dataset,colonna):\n",
        "  dataset_binario=list(dataset)\n",
        "  classes=[]\n",
        "  for row in dataset:\n",
        "    classes.append(row[colonna])\n",
        "  unique=set(classes)\n",
        "  lookup=dict()\n",
        "  for i, values in enumerate(unique):\n",
        "    lookup[values]=i\n",
        "  for row in dataset_binario:\n",
        "    row[colonna]=lookup[row[colonna]]\n",
        "  return dataset_binario\n",
        "  \n",
        "\n",
        "\n",
        "\n",
        "# function that splits dataset in two parts, train and test\n",
        "def train_test_split(dataset,split=0.7):\n",
        "  train_list=[]\n",
        "  train_size=int(split*len(dataset))\n",
        "  test_list=list(dataset)\n",
        "  while len(train_list)  <train_size:\n",
        "    index=randrange(len(test_list))\n",
        "    #print(\"index=\",index)\n",
        "    elem=test_list.pop(index)\n",
        "    train_list.append(elem)\n",
        "  return train_list, test_list\n",
        "\n",
        "  # function that calculates accuracy\n",
        "def accuracy_m(actual, predicted):\n",
        "  correct=0\n",
        "  for i in range(len(actual)):\n",
        "    if actual[i]==predicted[i]:\n",
        "      correct+=1\n",
        "    accuracy=(correct/float(len(actual)))*100\n",
        "  return accuracy\n",
        "\n",
        "\n",
        "\n",
        "###############START code###########################\n",
        "seed(1)\n",
        "n_folds=3\n",
        "lr=0.01\n",
        "epoches=200\n",
        "dataset_binario=str2int(dataset,len(dataset[0])-1)\n",
        "train, test =train_test_split(dataset_binario)\n",
        "\n",
        "\n",
        "################# Case dataset splitted in 2 parts########################################\n",
        "#print(\"len actual\",len(actual),\"le predicted\",len(predicted))\n",
        "#accuracy=accuracy_m(actual, predicted)\n",
        "#print(\"accuracy split in 2 parts case: %.2f%%\" % accuracy)\n",
        "\n",
        "\n",
        "\n",
        "\n",
        "\n"
      ],
      "execution_count": 0,
      "outputs": [
        {
          "output_type": "stream",
          "text": [
            "Loaded data file https://raw.githubusercontent.com/jbrownlee/Datasets/master/sonar.csv with 208 rows and 61 columns\n",
            "\n",
            "\n",
            "len dataset 208\n",
            "accuracy split in 2 parts case: 71.43%\n",
            "\n",
            "accuracies: [79.71014492753623, 72.46376811594203, 71.01449275362319] \n",
            "mean accuracy split in 3 parts case: 74.40%\n"
          ],
          "name": "stdout"
        }
      ]
    },
    {
      "cell_type": "code",
      "metadata": {
        "id": "PW36jFUIsJDM",
        "colab_type": "code",
        "colab": {}
      },
      "source": [
        ""
      ],
      "execution_count": 0,
      "outputs": []
    }
  ]
}